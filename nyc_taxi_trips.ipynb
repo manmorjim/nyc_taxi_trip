{
  "nbformat": 4,
  "nbformat_minor": 0,
  "metadata": {
    "colab": {
      "name": "nyc_taxi_trips.ipynb",
      "version": "0.3.2",
      "provenance": [],
      "collapsed_sections": [],
      "toc_visible": true
    },
    "kernelspec": {
      "name": "python3",
      "display_name": "Python 3"
    },
    "accelerator": "GPU"
  },
  "cells": [
    {
      "metadata": {
        "id": "Yq_58Qm-PHO8",
        "colab_type": "text"
      },
      "cell_type": "markdown",
      "source": [
        "# **Predicting tip ammount from NYC taxi data**"
      ]
    },
    {
      "metadata": {
        "id": "PyQvvq_BoTLq",
        "colab_type": "text"
      },
      "cell_type": "markdown",
      "source": [
        "## Data exploration and cleaning\n",
        "\n",
        "First of all, we are going to explore de data for seeking issues on it."
      ]
    },
    {
      "metadata": {
        "id": "_WYmwUJ7nAJg",
        "colab_type": "text"
      },
      "cell_type": "markdown",
      "source": [
        "### Dependencies"
      ]
    },
    {
      "metadata": {
        "id": "SF-4LCF7LlTr",
        "colab_type": "code",
        "colab": {
          "base_uri": "https://localhost:8080/",
          "height": 207
        },
        "outputId": "37e6cf17-4cc2-4439-b8f0-e5fe4d3172e2"
      },
      "cell_type": "code",
      "source": [
        "!pip install PyDrive"
      ],
      "execution_count": 1,
      "outputs": [
        {
          "output_type": "stream",
          "text": [
            "Requirement already satisfied: PyDrive in /usr/local/lib/python3.6/dist-packages (1.3.1)\n",
            "Requirement already satisfied: google-api-python-client>=1.2 in /usr/local/lib/python3.6/dist-packages (from PyDrive) (1.6.7)\n",
            "Requirement already satisfied: oauth2client>=4.0.0 in /usr/local/lib/python3.6/dist-packages (from PyDrive) (4.1.2)\n",
            "Requirement already satisfied: PyYAML>=3.0 in /usr/local/lib/python3.6/dist-packages (from PyDrive) (3.13)\n",
            "Requirement already satisfied: httplib2<1dev,>=0.9.2 in /usr/local/lib/python3.6/dist-packages (from google-api-python-client>=1.2->PyDrive) (0.11.3)\n",
            "Requirement already satisfied: uritemplate<4dev,>=3.0.0 in /usr/local/lib/python3.6/dist-packages (from google-api-python-client>=1.2->PyDrive) (3.0.0)\n",
            "Requirement already satisfied: six<2dev,>=1.6.1 in /usr/local/lib/python3.6/dist-packages (from google-api-python-client>=1.2->PyDrive) (1.11.0)\n",
            "Requirement already satisfied: rsa>=3.1.4 in /usr/local/lib/python3.6/dist-packages (from oauth2client>=4.0.0->PyDrive) (3.4.2)\n",
            "Requirement already satisfied: pyasn1>=0.1.7 in /usr/local/lib/python3.6/dist-packages (from oauth2client>=4.0.0->PyDrive) (0.4.4)\n",
            "Requirement already satisfied: pyasn1-modules>=0.0.5 in /usr/local/lib/python3.6/dist-packages (from oauth2client>=4.0.0->PyDrive) (0.2.2)\n"
          ],
          "name": "stdout"
        }
      ]
    },
    {
      "metadata": {
        "id": "I31_TmrF2wH_",
        "colab_type": "code",
        "colab": {}
      },
      "cell_type": "code",
      "source": [
        "import matplotlib.pyplot as plt\n",
        "import pandas as pd\n",
        "import numpy as np\n",
        "\n",
        "# load datasets from google drive\n",
        "from pydrive.auth import GoogleAuth\n",
        "from pydrive.drive import GoogleDrive\n",
        "from google.colab import auth\n",
        "from oauth2client.client import GoogleCredentials\n",
        "\n",
        "# Enable inline plotting\n",
        "%matplotlib inline"
      ],
      "execution_count": 0,
      "outputs": []
    },
    {
      "metadata": {
        "id": "X2HbsznSTCoL",
        "colab_type": "text"
      },
      "cell_type": "markdown",
      "source": [
        "### 1. Downloading datasets from google drive and reading CSV"
      ]
    },
    {
      "metadata": {
        "id": "PNW_J0u6LuJi",
        "colab_type": "code",
        "colab": {}
      },
      "cell_type": "code",
      "source": [
        "auth.authenticate_user()\n",
        "gauth = GoogleAuth()\n",
        "gauth.credentials = GoogleCredentials.get_application_default()\n",
        "drive = GoogleDrive(gauth)\n",
        "tripdata_down = drive.CreateFile({'id': '1NiY1_U0HYDSclaaGRWpJqOJIvnWwTbxl'})\n",
        "tripdata_down.GetContentFile('data_030611.csv')"
      ],
      "execution_count": 0,
      "outputs": []
    },
    {
      "metadata": {
        "id": "S4KcIG96VnsH",
        "colab_type": "code",
        "colab": {}
      },
      "cell_type": "code",
      "source": [
        "data = pd.read_csv('data_030611.csv', parse_dates=['tpep_pickup_datetime', 'tpep_dropoff_datetime'])\n",
        "#data = pd.Series.from_csv('yellow_tripdata_2017-030611.csv', nrows=5000000, parse_dates=True, index_col=1)\n",
        "data = data.fillna(np.nan)"
      ],
      "execution_count": 0,
      "outputs": []
    },
    {
      "metadata": {
        "id": "BI8J0EE5n2X_",
        "colab_type": "text"
      },
      "cell_type": "markdown",
      "source": [
        "### 2. Data exploration"
      ]
    },
    {
      "metadata": {
        "id": "N5EyjRlfw_kr",
        "colab_type": "text"
      },
      "cell_type": "markdown",
      "source": [
        "We cannot use the DataFrame as Time Series due to there are tpep_pickup_datetime duplicated. This is because we don't have observations about just one event but a lot of then (for each taxi car).  We are going to analyze each attribute in order to identify issues with the data and document it."
      ]
    },
    {
      "metadata": {
        "id": "ugGxOr0uMtjb",
        "colab_type": "code",
        "colab": {
          "base_uri": "https://localhost:8080/",
          "height": 241
        },
        "outputId": "d4969695-a026-479e-8c9f-a54aa5841de2"
      },
      "cell_type": "code",
      "source": [
        "print(data.shape)\n",
        "data.head()"
      ],
      "execution_count": 5,
      "outputs": [
        {
          "output_type": "stream",
          "text": [
            "(6000000, 17)\n"
          ],
          "name": "stdout"
        },
        {
          "output_type": "execute_result",
          "data": {
            "text/html": [
              "<div>\n",
              "<style scoped>\n",
              "    .dataframe tbody tr th:only-of-type {\n",
              "        vertical-align: middle;\n",
              "    }\n",
              "\n",
              "    .dataframe tbody tr th {\n",
              "        vertical-align: top;\n",
              "    }\n",
              "\n",
              "    .dataframe thead th {\n",
              "        text-align: right;\n",
              "    }\n",
              "</style>\n",
              "<table border=\"1\" class=\"dataframe\">\n",
              "  <thead>\n",
              "    <tr style=\"text-align: right;\">\n",
              "      <th></th>\n",
              "      <th>VendorID</th>\n",
              "      <th>tpep_pickup_datetime</th>\n",
              "      <th>tpep_dropoff_datetime</th>\n",
              "      <th>passenger_count</th>\n",
              "      <th>trip_distance</th>\n",
              "      <th>RatecodeID</th>\n",
              "      <th>store_and_fwd_flag</th>\n",
              "      <th>PULocationID</th>\n",
              "      <th>DOLocationID</th>\n",
              "      <th>payment_type</th>\n",
              "      <th>fare_amount</th>\n",
              "      <th>extra</th>\n",
              "      <th>mta_tax</th>\n",
              "      <th>tip_amount</th>\n",
              "      <th>tolls_amount</th>\n",
              "      <th>improvement_surcharge</th>\n",
              "      <th>total_amount</th>\n",
              "    </tr>\n",
              "  </thead>\n",
              "  <tbody>\n",
              "    <tr>\n",
              "      <th>0</th>\n",
              "      <td>2</td>\n",
              "      <td>2017-11-05 23:15:41</td>\n",
              "      <td>2017-11-05 23:22:08</td>\n",
              "      <td>6</td>\n",
              "      <td>1.42</td>\n",
              "      <td>1</td>\n",
              "      <td>N</td>\n",
              "      <td>143</td>\n",
              "      <td>141</td>\n",
              "      <td>1</td>\n",
              "      <td>7.0</td>\n",
              "      <td>0.5</td>\n",
              "      <td>0.5</td>\n",
              "      <td>1.66</td>\n",
              "      <td>0.0</td>\n",
              "      <td>0.3</td>\n",
              "      <td>9.96</td>\n",
              "    </tr>\n",
              "    <tr>\n",
              "      <th>1</th>\n",
              "      <td>1</td>\n",
              "      <td>2017-03-04 18:25:32</td>\n",
              "      <td>2017-03-04 18:36:17</td>\n",
              "      <td>1</td>\n",
              "      <td>1.10</td>\n",
              "      <td>1</td>\n",
              "      <td>N</td>\n",
              "      <td>158</td>\n",
              "      <td>113</td>\n",
              "      <td>1</td>\n",
              "      <td>8.0</td>\n",
              "      <td>0.0</td>\n",
              "      <td>0.5</td>\n",
              "      <td>1.75</td>\n",
              "      <td>0.0</td>\n",
              "      <td>0.3</td>\n",
              "      <td>10.55</td>\n",
              "    </tr>\n",
              "    <tr>\n",
              "      <th>2</th>\n",
              "      <td>2</td>\n",
              "      <td>2017-06-03 14:16:15</td>\n",
              "      <td>2017-06-03 14:39:52</td>\n",
              "      <td>1</td>\n",
              "      <td>3.19</td>\n",
              "      <td>1</td>\n",
              "      <td>N</td>\n",
              "      <td>163</td>\n",
              "      <td>211</td>\n",
              "      <td>2</td>\n",
              "      <td>16.5</td>\n",
              "      <td>0.0</td>\n",
              "      <td>0.5</td>\n",
              "      <td>0.00</td>\n",
              "      <td>0.0</td>\n",
              "      <td>0.3</td>\n",
              "      <td>17.30</td>\n",
              "    </tr>\n",
              "    <tr>\n",
              "      <th>3</th>\n",
              "      <td>2</td>\n",
              "      <td>2017-06-04 16:16:41</td>\n",
              "      <td>2017-06-04 16:23:34</td>\n",
              "      <td>1</td>\n",
              "      <td>1.43</td>\n",
              "      <td>1</td>\n",
              "      <td>N</td>\n",
              "      <td>90</td>\n",
              "      <td>231</td>\n",
              "      <td>2</td>\n",
              "      <td>7.5</td>\n",
              "      <td>0.0</td>\n",
              "      <td>0.5</td>\n",
              "      <td>0.00</td>\n",
              "      <td>0.0</td>\n",
              "      <td>0.3</td>\n",
              "      <td>8.30</td>\n",
              "    </tr>\n",
              "    <tr>\n",
              "      <th>4</th>\n",
              "      <td>1</td>\n",
              "      <td>2017-03-04 17:45:09</td>\n",
              "      <td>2017-03-04 18:08:31</td>\n",
              "      <td>1</td>\n",
              "      <td>3.50</td>\n",
              "      <td>1</td>\n",
              "      <td>N</td>\n",
              "      <td>87</td>\n",
              "      <td>186</td>\n",
              "      <td>1</td>\n",
              "      <td>16.5</td>\n",
              "      <td>0.0</td>\n",
              "      <td>0.5</td>\n",
              "      <td>3.45</td>\n",
              "      <td>0.0</td>\n",
              "      <td>0.3</td>\n",
              "      <td>20.75</td>\n",
              "    </tr>\n",
              "  </tbody>\n",
              "</table>\n",
              "</div>"
            ],
            "text/plain": [
              "   VendorID tpep_pickup_datetime tpep_dropoff_datetime  passenger_count  \\\n",
              "0         2  2017-11-05 23:15:41   2017-11-05 23:22:08                6   \n",
              "1         1  2017-03-04 18:25:32   2017-03-04 18:36:17                1   \n",
              "2         2  2017-06-03 14:16:15   2017-06-03 14:39:52                1   \n",
              "3         2  2017-06-04 16:16:41   2017-06-04 16:23:34                1   \n",
              "4         1  2017-03-04 17:45:09   2017-03-04 18:08:31                1   \n",
              "\n",
              "   trip_distance  RatecodeID store_and_fwd_flag  PULocationID  DOLocationID  \\\n",
              "0           1.42           1                  N           143           141   \n",
              "1           1.10           1                  N           158           113   \n",
              "2           3.19           1                  N           163           211   \n",
              "3           1.43           1                  N            90           231   \n",
              "4           3.50           1                  N            87           186   \n",
              "\n",
              "   payment_type  fare_amount  extra  mta_tax  tip_amount  tolls_amount  \\\n",
              "0             1          7.0    0.5      0.5        1.66           0.0   \n",
              "1             1          8.0    0.0      0.5        1.75           0.0   \n",
              "2             2         16.5    0.0      0.5        0.00           0.0   \n",
              "3             2          7.5    0.0      0.5        0.00           0.0   \n",
              "4             1         16.5    0.0      0.5        3.45           0.0   \n",
              "\n",
              "   improvement_surcharge  total_amount  \n",
              "0                    0.3          9.96  \n",
              "1                    0.3         10.55  \n",
              "2                    0.3         17.30  \n",
              "3                    0.3          8.30  \n",
              "4                    0.3         20.75  "
            ]
          },
          "metadata": {
            "tags": []
          },
          "execution_count": 5
        }
      ]
    },
    {
      "metadata": {
        "id": "AdV9Oin-yMW7",
        "colab_type": "text"
      },
      "cell_type": "markdown",
      "source": [
        "#### Vendor ID"
      ]
    },
    {
      "metadata": {
        "id": "i-iQKAw0xNkh",
        "colab_type": "code",
        "colab": {
          "base_uri": "https://localhost:8080/",
          "height": 312
        },
        "outputId": "9c187f74-365b-47df-9f9f-38800cf23775"
      },
      "cell_type": "code",
      "source": [
        "data.groupby('VendorID').size().plot(kind='bar')"
      ],
      "execution_count": 6,
      "outputs": [
        {
          "output_type": "execute_result",
          "data": {
            "text/plain": [
              "<matplotlib.axes._subplots.AxesSubplot at 0x7f23652f77f0>"
            ]
          },
          "metadata": {
            "tags": []
          },
          "execution_count": 6
        },
        {
          "output_type": "display_data",
          "data": {
            "image/png": "[encoded data removed]",
            "text/plain": [
              "<matplotlib.figure.Figure at 0x7f23652f7ef0>"
            ]
          },
          "metadata": {
            "tags": []
          }
        }
      ]
    },
    {
      "metadata": {
        "id": "1np_RSQSBKE6",
        "colab_type": "text"
      },
      "cell_type": "markdown",
      "source": [
        "No issues with Vendor ID because there are just two different vendors."
      ]
    },
    {
      "metadata": {
        "id": "ef896LFTyQOh",
        "colab_type": "text"
      },
      "cell_type": "markdown",
      "source": [
        "#### Passengers"
      ]
    },
    {
      "metadata": {
        "id": "vfYnIKCS7CQE",
        "colab_type": "code",
        "colab": {
          "base_uri": "https://localhost:8080/",
          "height": 305
        },
        "outputId": "97dfd7b3-149e-4e22-a68d-67619da04f1f"
      },
      "cell_type": "code",
      "source": [
        "data.set_index('tpep_pickup_datetime')['passenger_count'].resample('D').mean().dropna().plot()"
      ],
      "execution_count": 7,
      "outputs": [
        {
          "output_type": "execute_result",
          "data": {
            "text/plain": [
              "<matplotlib.axes._subplots.AxesSubplot at 0x7f2331833fd0>"
            ]
          },
          "metadata": {
            "tags": []
          },
          "execution_count": 7
        },
        {
          "output_type": "display_data",
          "data": {
            "image/png": "[encoded data removed]",
            "text/plain": [
              "<matplotlib.figure.Figure at 0x7f23668973c8>"
            ]
          },
          "metadata": {
            "tags": []
          }
        }
      ]
    },
    {
      "metadata": {
        "id": "J7MPfzyeBR0_",
        "colab_type": "text"
      },
      "cell_type": "markdown",
      "source": [
        "We can see there are data with a mistake in the pick up datetime. "
      ]
    },
    {
      "metadata": {
        "id": "OE05ouY2DY9f",
        "colab_type": "code",
        "colab": {
          "base_uri": "https://localhost:8080/",
          "height": 286
        },
        "outputId": "8b5df670-ecdd-4cac-a1ea-4a5b3a9d7c29"
      },
      "cell_type": "code",
      "source": [
        "data[(data['tpep_pickup_datetime'] < '2017-01-01') | (data['tpep_pickup_datetime'] > '2017-12-31')]"
      ],
      "execution_count": 8,
      "outputs": [
        {
          "output_type": "execute_result",
          "data": {
            "text/html": [
              "<div>\n",
              "<style scoped>\n",
              "    .dataframe tbody tr th:only-of-type {\n",
              "        vertical-align: middle;\n",
              "    }\n",
              "\n",
              "    .dataframe tbody tr th {\n",
              "        vertical-align: top;\n",
              "    }\n",
              "\n",
              "    .dataframe thead th {\n",
              "        text-align: right;\n",
              "    }\n",
              "</style>\n",
              "<table border=\"1\" class=\"dataframe\">\n",
              "  <thead>\n",
              "    <tr style=\"text-align: right;\">\n",
              "      <th></th>\n",
              "      <th>VendorID</th>\n",
              "      <th>tpep_pickup_datetime</th>\n",
              "      <th>tpep_dropoff_datetime</th>\n",
              "      <th>passenger_count</th>\n",
              "      <th>trip_distance</th>\n",
              "      <th>RatecodeID</th>\n",
              "      <th>store_and_fwd_flag</th>\n",
              "      <th>PULocationID</th>\n",
              "      <th>DOLocationID</th>\n",
              "      <th>payment_type</th>\n",
              "      <th>fare_amount</th>\n",
              "      <th>extra</th>\n",
              "      <th>mta_tax</th>\n",
              "      <th>tip_amount</th>\n",
              "      <th>tolls_amount</th>\n",
              "      <th>improvement_surcharge</th>\n",
              "      <th>total_amount</th>\n",
              "    </tr>\n",
              "  </thead>\n",
              "  <tbody>\n",
              "    <tr>\n",
              "      <th>1553700</th>\n",
              "      <td>2</td>\n",
              "      <td>2008-12-31 17:48:27</td>\n",
              "      <td>2008-12-31 17:57:27</td>\n",
              "      <td>1</td>\n",
              "      <td>0.90</td>\n",
              "      <td>1</td>\n",
              "      <td>N</td>\n",
              "      <td>162</td>\n",
              "      <td>264</td>\n",
              "      <td>2</td>\n",
              "      <td>7.5</td>\n",
              "      <td>1.0</td>\n",
              "      <td>0.5</td>\n",
              "      <td>0.00</td>\n",
              "      <td>0.0</td>\n",
              "      <td>0.3</td>\n",
              "      <td>9.30</td>\n",
              "    </tr>\n",
              "    <tr>\n",
              "      <th>2141603</th>\n",
              "      <td>2</td>\n",
              "      <td>2009-01-01 00:26:27</td>\n",
              "      <td>2009-01-01 00:39:28</td>\n",
              "      <td>1</td>\n",
              "      <td>0.69</td>\n",
              "      <td>1</td>\n",
              "      <td>N</td>\n",
              "      <td>230</td>\n",
              "      <td>163</td>\n",
              "      <td>1</td>\n",
              "      <td>9.0</td>\n",
              "      <td>0.0</td>\n",
              "      <td>0.5</td>\n",
              "      <td>1.96</td>\n",
              "      <td>0.0</td>\n",
              "      <td>0.3</td>\n",
              "      <td>11.76</td>\n",
              "    </tr>\n",
              "    <tr>\n",
              "      <th>3497187</th>\n",
              "      <td>2</td>\n",
              "      <td>2009-01-01 00:51:57</td>\n",
              "      <td>2009-01-01 01:06:10</td>\n",
              "      <td>1</td>\n",
              "      <td>1.86</td>\n",
              "      <td>1</td>\n",
              "      <td>N</td>\n",
              "      <td>161</td>\n",
              "      <td>236</td>\n",
              "      <td>1</td>\n",
              "      <td>10.5</td>\n",
              "      <td>0.0</td>\n",
              "      <td>0.5</td>\n",
              "      <td>2.26</td>\n",
              "      <td>0.0</td>\n",
              "      <td>0.3</td>\n",
              "      <td>13.56</td>\n",
              "    </tr>\n",
              "    <tr>\n",
              "      <th>3566862</th>\n",
              "      <td>2</td>\n",
              "      <td>2009-01-01 01:34:54</td>\n",
              "      <td>2009-01-01 01:43:15</td>\n",
              "      <td>2</td>\n",
              "      <td>1.59</td>\n",
              "      <td>1</td>\n",
              "      <td>N</td>\n",
              "      <td>226</td>\n",
              "      <td>7</td>\n",
              "      <td>1</td>\n",
              "      <td>8.0</td>\n",
              "      <td>1.0</td>\n",
              "      <td>0.5</td>\n",
              "      <td>2.94</td>\n",
              "      <td>0.0</td>\n",
              "      <td>0.3</td>\n",
              "      <td>12.74</td>\n",
              "    </tr>\n",
              "    <tr>\n",
              "      <th>4494398</th>\n",
              "      <td>2</td>\n",
              "      <td>2008-12-31 23:18:19</td>\n",
              "      <td>2009-01-01 00:02:26</td>\n",
              "      <td>1</td>\n",
              "      <td>4.02</td>\n",
              "      <td>1</td>\n",
              "      <td>N</td>\n",
              "      <td>12</td>\n",
              "      <td>186</td>\n",
              "      <td>1</td>\n",
              "      <td>28.0</td>\n",
              "      <td>0.0</td>\n",
              "      <td>0.5</td>\n",
              "      <td>5.76</td>\n",
              "      <td>0.0</td>\n",
              "      <td>0.3</td>\n",
              "      <td>34.56</td>\n",
              "    </tr>\n",
              "    <tr>\n",
              "      <th>4618463</th>\n",
              "      <td>2</td>\n",
              "      <td>2009-01-01 00:05:09</td>\n",
              "      <td>2009-01-01 00:17:04</td>\n",
              "      <td>1</td>\n",
              "      <td>1.36</td>\n",
              "      <td>1</td>\n",
              "      <td>N</td>\n",
              "      <td>186</td>\n",
              "      <td>230</td>\n",
              "      <td>1</td>\n",
              "      <td>9.0</td>\n",
              "      <td>0.0</td>\n",
              "      <td>0.5</td>\n",
              "      <td>1.96</td>\n",
              "      <td>0.0</td>\n",
              "      <td>0.3</td>\n",
              "      <td>11.76</td>\n",
              "    </tr>\n",
              "    <tr>\n",
              "      <th>5831066</th>\n",
              "      <td>2</td>\n",
              "      <td>2009-01-01 00:42:17</td>\n",
              "      <td>2009-01-01 00:47:32</td>\n",
              "      <td>1</td>\n",
              "      <td>0.21</td>\n",
              "      <td>2</td>\n",
              "      <td>N</td>\n",
              "      <td>237</td>\n",
              "      <td>163</td>\n",
              "      <td>2</td>\n",
              "      <td>52.0</td>\n",
              "      <td>0.0</td>\n",
              "      <td>0.5</td>\n",
              "      <td>0.00</td>\n",
              "      <td>0.0</td>\n",
              "      <td>0.3</td>\n",
              "      <td>52.80</td>\n",
              "    </tr>\n",
              "  </tbody>\n",
              "</table>\n",
              "</div>"
            ],
            "text/plain": [
              "         VendorID tpep_pickup_datetime tpep_dropoff_datetime  passenger_count  \\\n",
              "1553700         2  2008-12-31 17:48:27   2008-12-31 17:57:27                1   \n",
              "2141603         2  2009-01-01 00:26:27   2009-01-01 00:39:28                1   \n",
              "3497187         2  2009-01-01 00:51:57   2009-01-01 01:06:10                1   \n",
              "3566862         2  2009-01-01 01:34:54   2009-01-01 01:43:15                2   \n",
              "4494398         2  2008-12-31 23:18:19   2009-01-01 00:02:26                1   \n",
              "4618463         2  2009-01-01 00:05:09   2009-01-01 00:17:04                1   \n",
              "5831066         2  2009-01-01 00:42:17   2009-01-01 00:47:32                1   \n",
              "\n",
              "         trip_distance  RatecodeID store_and_fwd_flag  PULocationID  \\\n",
              "1553700           0.90           1                  N           162   \n",
              "2141603           0.69           1                  N           230   \n",
              "3497187           1.86           1                  N           161   \n",
              "3566862           1.59           1                  N           226   \n",
              "4494398           4.02           1                  N            12   \n",
              "4618463           1.36           1                  N           186   \n",
              "5831066           0.21           2                  N           237   \n",
              "\n",
              "         DOLocationID  payment_type  fare_amount  extra  mta_tax  tip_amount  \\\n",
              "1553700           264             2          7.5    1.0      0.5        0.00   \n",
              "2141603           163             1          9.0    0.0      0.5        1.96   \n",
              "3497187           236             1         10.5    0.0      0.5        2.26   \n",
              "3566862             7             1          8.0    1.0      0.5        2.94   \n",
              "4494398           186             1         28.0    0.0      0.5        5.76   \n",
              "4618463           230             1          9.0    0.0      0.5        1.96   \n",
              "5831066           163             2         52.0    0.0      0.5        0.00   \n",
              "\n",
              "         tolls_amount  improvement_surcharge  total_amount  \n",
              "1553700           0.0                    0.3          9.30  \n",
              "2141603           0.0                    0.3         11.76  \n",
              "3497187           0.0                    0.3         13.56  \n",
              "3566862           0.0                    0.3         12.74  \n",
              "4494398           0.0                    0.3         34.56  \n",
              "4618463           0.0                    0.3         11.76  \n",
              "5831066           0.0                    0.3         52.80  "
            ]
          },
          "metadata": {
            "tags": []
          },
          "execution_count": 8
        }
      ]
    },
    {
      "metadata": {
        "id": "SZox7cg1EI4m",
        "colab_type": "text"
      },
      "cell_type": "markdown",
      "source": [
        "This data could be a meter or dataset mistake. Anyway they are outliers and they are not representative so we remove them."
      ]
    },
    {
      "metadata": {
        "id": "vw1_SuIJEZ8d",
        "colab_type": "code",
        "colab": {}
      },
      "cell_type": "code",
      "source": [
        "data = data[(data['tpep_pickup_datetime'] > '2016-12-31') & (data['tpep_pickup_datetime'] < '2018-01-01')]"
      ],
      "execution_count": 0,
      "outputs": []
    },
    {
      "metadata": {
        "id": "JdgOntHpE0G7",
        "colab_type": "code",
        "colab": {
          "base_uri": "https://localhost:8080/",
          "height": 312
        },
        "outputId": "95a8775e-bf08-40e7-8efe-04f8b6ddd0a9"
      },
      "cell_type": "code",
      "source": [
        "data.set_index('tpep_pickup_datetime')['passenger_count'].resample('D').mean().dropna().plot()"
      ],
      "execution_count": 10,
      "outputs": [
        {
          "output_type": "execute_result",
          "data": {
            "text/plain": [
              "<matplotlib.axes._subplots.AxesSubplot at 0x7f233181d7b8>"
            ]
          },
          "metadata": {
            "tags": []
          },
          "execution_count": 10
        },
        {
          "output_type": "display_data",
          "data": {
            "image/png": "[encoded data removed]",
            "text/plain": [
              "<matplotlib.figure.Figure at 0x7f2331833f60>"
            ]
          },
          "metadata": {
            "tags": []
          }
        }
      ]
    },
    {
      "metadata": {
        "id": "k5P05_r3zU3v",
        "colab_type": "text"
      },
      "cell_type": "markdown",
      "source": [
        "As we can see there are trips where the number of passengers is 0. As the dictionary says, it's an information given by the taxi driver so they could did some mistakes. We'll take a look at the total amount and the trip distance:"
      ]
    },
    {
      "metadata": {
        "id": "yOgA5PokGLa-",
        "colab_type": "code",
        "colab": {
          "base_uri": "https://localhost:8080/",
          "height": 312
        },
        "outputId": "f33504a7-c0ad-4a97-e330-380c374b5db5"
      },
      "cell_type": "code",
      "source": [
        "no_passengers = data[data['passenger_count'] == 0]\n",
        "no_passengers.set_index('tpep_pickup_datetime')[['total_amount', 'trip_distance']].resample('D').mean().dropna().plot()"
      ],
      "execution_count": 11,
      "outputs": [
        {
          "output_type": "execute_result",
          "data": {
            "text/plain": [
              "<matplotlib.axes._subplots.AxesSubplot at 0x7f23325ebb38>"
            ]
          },
          "metadata": {
            "tags": []
          },
          "execution_count": 11
        },
        {
          "output_type": "display_data",
          "data": {
            "image/png": "[encoded data removed]",
            "text/plain": [
              "<matplotlib.figure.Figure at 0x7f2332a4ed68>"
            ]
          },
          "metadata": {
            "tags": []
          }
        }
      ]
    },
    {
      "metadata": {
        "id": "QHG2xxcDZW2z",
        "colab_type": "text"
      },
      "cell_type": "markdown",
      "source": [
        "We'll just remove that rows where the number of passengers is 0 and the trip_distance is 0 and put passengers to 1 where trip_distance or total_amount are greater than 0. We should apply cluster techinques in order to segment by passenger_counts and get information about how many passengers paid a total amount but we are out of time. "
      ]
    },
    {
      "metadata": {
        "id": "95fmESNnZVv_",
        "colab_type": "code",
        "colab": {}
      },
      "cell_type": "code",
      "source": [
        "data = data[(data['passenger_count'] != 0) | (data['trip_distance'] != 0)]"
      ],
      "execution_count": 0,
      "outputs": []
    },
    {
      "metadata": {
        "id": "zuXn8fhdvH5o",
        "colab_type": "text"
      },
      "cell_type": "markdown",
      "source": [
        "We put **passenger_count** to 1 because is the minimun of passengers who paid:\n",
        "\n"
      ]
    },
    {
      "metadata": {
        "id": "h4Zd-0cSCKIR",
        "colab_type": "code",
        "colab": {}
      },
      "cell_type": "code",
      "source": [
        "data['passenger_count'] = data['passenger_count'].apply(lambda x: max(x, 1))"
      ],
      "execution_count": 0,
      "outputs": []
    },
    {
      "metadata": {
        "id": "zGVNW_VnZAKE",
        "colab_type": "text"
      },
      "cell_type": "markdown",
      "source": [
        "#### Trip distance"
      ]
    },
    {
      "metadata": {
        "id": "VZA0gIHgZel8",
        "colab_type": "code",
        "colab": {
          "base_uri": "https://localhost:8080/",
          "height": 312
        },
        "outputId": "11e0d570-b6d0-409e-e01c-54078d8d5e1a"
      },
      "cell_type": "code",
      "source": [
        "data.set_index('tpep_pickup_datetime')['trip_distance'].resample('D').mean().dropna().plot()"
      ],
      "execution_count": 14,
      "outputs": [
        {
          "output_type": "execute_result",
          "data": {
            "text/plain": [
              "<matplotlib.axes._subplots.AxesSubplot at 0x7f2332f01b38>"
            ]
          },
          "metadata": {
            "tags": []
          },
          "execution_count": 14
        },
        {
          "output_type": "display_data",
          "data": {
            "image/png": "[encoded data removed]",
            "text/plain": [
              "<matplotlib.figure.Figure at 0x7f2332ef9d30>"
            ]
          },
          "metadata": {
            "tags": []
          }
        }
      ]
    },
    {
      "metadata": {
        "id": "NKv9rupWCL50",
        "colab_type": "code",
        "colab": {
          "base_uri": "https://localhost:8080/",
          "height": 190
        },
        "outputId": "8899d73c-97ec-4607-a0ce-0f42beeb61b7"
      },
      "cell_type": "code",
      "source": [
        "data['trip_distance'].describe()"
      ],
      "execution_count": 15,
      "outputs": [
        {
          "output_type": "execute_result",
          "data": {
            "text/plain": [
              "count    5.999641e+06\n",
              "mean     2.879870e+00\n",
              "std      3.653986e+00\n",
              "min      0.000000e+00\n",
              "25%      9.900000e-01\n",
              "50%      1.630000e+00\n",
              "75%      3.010000e+00\n",
              "max      5.985000e+02\n",
              "Name: trip_distance, dtype: float64"
            ]
          },
          "metadata": {
            "tags": []
          },
          "execution_count": 15
        }
      ]
    },
    {
      "metadata": {
        "id": "2lVaLe64Zbu6",
        "colab_type": "text"
      },
      "cell_type": "markdown",
      "source": [
        "There are trips with distance 0 and it makes no sense. We'll take a look to these trips"
      ]
    },
    {
      "metadata": {
        "id": "oflmUtN5Z2LE",
        "colab_type": "code",
        "colab": {
          "base_uri": "https://localhost:8080/",
          "height": 312
        },
        "outputId": "942ebc37-04d5-4f25-8386-b5d24d32ba9d"
      },
      "cell_type": "code",
      "source": [
        "no_distance = data[data['trip_distance'] == 0]\n",
        "no_distance.set_index('tpep_pickup_datetime')['total_amount'].plot()"
      ],
      "execution_count": 16,
      "outputs": [
        {
          "output_type": "execute_result",
          "data": {
            "text/plain": [
              "<matplotlib.axes._subplots.AxesSubplot at 0x7f23340e4160>"
            ]
          },
          "metadata": {
            "tags": []
          },
          "execution_count": 16
        },
        {
          "output_type": "display_data",
          "data": {
            "image/png": "[encoded data removed]",
            "text/plain": [
              "<matplotlib.figure.Figure at 0x7f2333c77128>"
            ]
          },
          "metadata": {
            "tags": []
          }
        }
      ]
    },
    {
      "metadata": {
        "id": "NdE2wTiCaHH2",
        "colab_type": "text"
      },
      "cell_type": "markdown",
      "source": [
        "There are trips with no distance but total amount paid by the passengers. We'll remove rows which total amount charged and the trip distance are 0. The reason may be the taxi driver did a favor for their friend or their family."
      ]
    },
    {
      "metadata": {
        "id": "fQMZ4qLIHaz-",
        "colab_type": "code",
        "colab": {}
      },
      "cell_type": "code",
      "source": [
        "data = data[(data['total_amount'] != 0) | (data['trip_distance'] != 0)]"
      ],
      "execution_count": 0,
      "outputs": []
    },
    {
      "metadata": {
        "id": "_IeGIhOazWAO",
        "colab_type": "text"
      },
      "cell_type": "markdown",
      "source": [
        "We are going to study trips that distance is 0 and passengers paid. After read [how a taxi works](https://auto.howstuffworks.com/taxi-meter1.htm), if the pick up zone is different to the drop off zone it is possible that sensor attached to the cab's transmission could have been broken. We can get the avg distances between these zones and applying to the distance. If the pick up and drop off zones are the same we'll study what the proportion is and remove them in case that this proportion is no representative.\n",
        "\n"
      ]
    },
    {
      "metadata": {
        "id": "2DVSXXeg-IUt",
        "colab_type": "code",
        "colab": {
          "base_uri": "https://localhost:8080/",
          "height": 54
        },
        "outputId": "f015bf63-d932-4d84-cc17-d87dbc61ac89"
      },
      "cell_type": "code",
      "source": [
        "no_trip_same_zone = data[(data['trip_distance'] == 0) & (data['PULocationID'] == data['DOLocationID'])]\n",
        "(no_trip_same_zone.size / data.size) * 100"
      ],
      "execution_count": 18,
      "outputs": [
        {
          "output_type": "execute_result",
          "data": {
            "text/plain": [
              "0.4527722171686384"
            ]
          },
          "metadata": {
            "tags": []
          },
          "execution_count": 18
        }
      ]
    },
    {
      "metadata": {
        "id": "xpbhPGOZOYr2",
        "colab_type": "text"
      },
      "cell_type": "markdown",
      "source": [
        "Rows have same pick up and drop off zones are not representative so we remove them"
      ]
    },
    {
      "metadata": {
        "id": "2aPcDA4HOT1O",
        "colab_type": "code",
        "colab": {
          "base_uri": "https://localhost:8080/",
          "height": 54
        },
        "outputId": "f29e209f-3acc-4b05-a4f4-374e72f7d70e"
      },
      "cell_type": "code",
      "source": [
        "data = data[(data['trip_distance'] != 0) | (data['PULocationID'] != data['DOLocationID'])]\n",
        "data[data['trip_distance'] == 0].size"
      ],
      "execution_count": 19,
      "outputs": [
        {
          "output_type": "execute_result",
          "data": {
            "text/plain": [
              "200940"
            ]
          },
          "metadata": {
            "tags": []
          },
          "execution_count": 19
        }
      ]
    },
    {
      "metadata": {
        "id": "b5nnbMPlgSyy",
        "colab_type": "text"
      },
      "cell_type": "markdown",
      "source": [
        "I think the best option to transform distances which value is 0 is to get the distance between zones. We could load the [taxi zone shapefile](http://www.nyc.gov/html/exit-page.html?url=https://s3.amazonaws.com/nyc-tlc/misc/taxi_zones.zip) with geopandas or similar in order to calculate the pole of inaccessibility through the [polylabel algorithm](https://github.com/mapbox/polylabel/) and then using [OSRM](http://project-osrm.org/) routing to get the real distance by car between each pair of poles. Due to we don't have much time we just get the average between zones from the dataset."
      ]
    },
    {
      "metadata": {
        "id": "qBcBXqJMhy3W",
        "colab_type": "code",
        "colab": {}
      },
      "cell_type": "code",
      "source": [
        "trip_distance_mean = data.pivot_table(index='PULocationID', columns='DOLocationID', values='trip_distance', aggfunc='mean')\n",
        "trip_distance_mean = trip_distance_mean.fillna(0)\n",
        "\n",
        "def fill_distance_mean(row):\n",
        "  distance_mean = row['trip_distance']\n",
        "  if distance_mean == 0:\n",
        "    do = row['DOLocationID']\n",
        "    pu = row['PULocationID']\n",
        "  \n",
        "    if do in trip_distance_mean.columns and pu in trip_distance_mean.columns:\n",
        "      distance_mean = trip_distance_mean[do][pu]\n",
        "      \n",
        "  return distance_mean\n",
        "\n",
        "data['trip_distance'] = data.apply(lambda row: fill_distance_mean(row), axis=1)"
      ],
      "execution_count": 0,
      "outputs": []
    },
    {
      "metadata": {
        "id": "z5qc_G2McJI8",
        "colab_type": "code",
        "colab": {
          "base_uri": "https://localhost:8080/",
          "height": 54
        },
        "outputId": "b6e6f36e-8313-4436-f3de-9ce6cc4d8322"
      },
      "cell_type": "code",
      "source": [
        "data[data['trip_distance'] == 0].size"
      ],
      "execution_count": 21,
      "outputs": [
        {
          "output_type": "execute_result",
          "data": {
            "text/plain": [
              "2601"
            ]
          },
          "metadata": {
            "tags": []
          },
          "execution_count": 21
        }
      ]
    },
    {
      "metadata": {
        "id": "EBpmPGM_FBCr",
        "colab_type": "text"
      },
      "cell_type": "markdown",
      "source": [
        "#### Tip amount"
      ]
    },
    {
      "metadata": {
        "id": "rmeVxTvFynNm",
        "colab_type": "code",
        "colab": {
          "base_uri": "https://localhost:8080/",
          "height": 328
        },
        "outputId": "99f22026-3f82-4ba6-e2b1-37b33625a83b"
      },
      "cell_type": "code",
      "source": [
        "data.set_index('tpep_pickup_datetime')['tip_amount'].resample('D').mean().plot()"
      ],
      "execution_count": 22,
      "outputs": [
        {
          "output_type": "execute_result",
          "data": {
            "text/plain": [
              "<matplotlib.axes._subplots.AxesSubplot at 0x7f2336080048>"
            ]
          },
          "metadata": {
            "tags": []
          },
          "execution_count": 22
        },
        {
          "output_type": "display_data",
          "data": {
            "image/png": "[encoded data removed]",
            "text/plain": [
              "<matplotlib.figure.Figure at 0x7f2333c69c18>"
            ]
          },
          "metadata": {
            "tags": []
          }
        }
      ]
    },
    {
      "metadata": {
        "id": "JrJIjS8iMJjq",
        "colab_type": "text"
      },
      "cell_type": "markdown",
      "source": [
        "We can see there are a lot of days with no information about trips:"
      ]
    },
    {
      "metadata": {
        "id": "eeXMXCMkKBMy",
        "colab_type": "code",
        "colab": {
          "base_uri": "https://localhost:8080/",
          "height": 328
        },
        "outputId": "7916b8fa-c0b0-466b-b7ec-5cc57aec6eac"
      },
      "cell_type": "code",
      "source": [
        "data.set_index('tpep_pickup_datetime')[['VendorID']].resample('D').count().plot()"
      ],
      "execution_count": 23,
      "outputs": [
        {
          "output_type": "execute_result",
          "data": {
            "text/plain": [
              "<matplotlib.axes._subplots.AxesSubplot at 0x7f22b214dcc0>"
            ]
          },
          "metadata": {
            "tags": []
          },
          "execution_count": 23
        },
        {
          "output_type": "display_data",
          "data": {
            "image/png": "[encoded data removed]",
            "text/plain": [
              "<matplotlib.figure.Figure at 0x7f22b213c198>"
            ]
          },
          "metadata": {
            "tags": []
          }
        }
      ]
    },
    {
      "metadata": {
        "id": "Bc63-WKUSPFF",
        "colab_type": "text"
      },
      "cell_type": "markdown",
      "source": [
        "Just fill that gaps with 0:"
      ]
    },
    {
      "metadata": {
        "id": "CxW_zGBsM6eS",
        "colab_type": "code",
        "colab": {
          "base_uri": "https://localhost:8080/",
          "height": 328
        },
        "outputId": "87157f7b-5d83-40cb-b618-f11dde74e8c2"
      },
      "cell_type": "code",
      "source": [
        "data.set_index('tpep_pickup_datetime')['tip_amount'].resample('D').mean().fillna(0).plot()"
      ],
      "execution_count": 24,
      "outputs": [
        {
          "output_type": "execute_result",
          "data": {
            "text/plain": [
              "<matplotlib.axes._subplots.AxesSubplot at 0x7f231c4a5a20>"
            ]
          },
          "metadata": {
            "tags": []
          },
          "execution_count": 24
        },
        {
          "output_type": "display_data",
          "data": {
            "image/png": "[encoded data removed]",
            "text/plain": [
              "<matplotlib.figure.Figure at 0x7f231c492ba8>"
            ]
          },
          "metadata": {
            "tags": []
          }
        }
      ]
    },
    {
      "metadata": {
        "id": "Y31Zv_P81Ucq",
        "colab_type": "text"
      },
      "cell_type": "markdown",
      "source": [
        "As the data dictionary says, tip amount is populated for credit card tips. The cash tips are not included so that trips where passengers didn't pay by credit card and the tip amount is 0 because system has no information. We could deduce the cash tips from the total amount, the fare, the distance and the trip duration but the data dictionary says the total amount does not include cash tip either. We just remove them:"
      ]
    },
    {
      "metadata": {
        "id": "lxgugc7L5R0C",
        "colab_type": "code",
        "colab": {
          "base_uri": "https://localhost:8080/",
          "height": 122
        },
        "outputId": "f785bac6-6bb8-425a-c85e-1a8fbaa8b872"
      },
      "cell_type": "code",
      "source": [
        "no_creditcard = data[data['payment_type'] != 1]\n",
        "no_creditcard_tip = no_creditcard[no_creditcard['tip_amount'] != 0]\n",
        "no_creditcard_tip.groupby('payment_type').size()"
      ],
      "execution_count": 25,
      "outputs": [
        {
          "output_type": "execute_result",
          "data": {
            "text/plain": [
              "payment_type\n",
              "2     1\n",
              "3    35\n",
              "4    12\n",
              "dtype: int64"
            ]
          },
          "metadata": {
            "tags": []
          },
          "execution_count": 25
        }
      ]
    },
    {
      "metadata": {
        "id": "pP8OrRbOg01l",
        "colab_type": "text"
      },
      "cell_type": "markdown",
      "source": [
        "There are trips which passengers paid by cash and there is data about the tip amount:"
      ]
    },
    {
      "metadata": {
        "id": "GbUbxI0-hBNK",
        "colab_type": "code",
        "colab": {
          "base_uri": "https://localhost:8080/",
          "height": 100
        },
        "outputId": "3f20192e-bb8a-49c4-f7e8-e3a6eda68668"
      },
      "cell_type": "code",
      "source": [
        "data[(data['payment_type'] == 2) & (data['tip_amount'] != 0)]"
      ],
      "execution_count": 26,
      "outputs": [
        {
          "output_type": "execute_result",
          "data": {
            "text/html": [
              "<div>\n",
              "<style scoped>\n",
              "    .dataframe tbody tr th:only-of-type {\n",
              "        vertical-align: middle;\n",
              "    }\n",
              "\n",
              "    .dataframe tbody tr th {\n",
              "        vertical-align: top;\n",
              "    }\n",
              "\n",
              "    .dataframe thead th {\n",
              "        text-align: right;\n",
              "    }\n",
              "</style>\n",
              "<table border=\"1\" class=\"dataframe\">\n",
              "  <thead>\n",
              "    <tr style=\"text-align: right;\">\n",
              "      <th></th>\n",
              "      <th>VendorID</th>\n",
              "      <th>tpep_pickup_datetime</th>\n",
              "      <th>tpep_dropoff_datetime</th>\n",
              "      <th>passenger_count</th>\n",
              "      <th>trip_distance</th>\n",
              "      <th>RatecodeID</th>\n",
              "      <th>store_and_fwd_flag</th>\n",
              "      <th>PULocationID</th>\n",
              "      <th>DOLocationID</th>\n",
              "      <th>payment_type</th>\n",
              "      <th>fare_amount</th>\n",
              "      <th>extra</th>\n",
              "      <th>mta_tax</th>\n",
              "      <th>tip_amount</th>\n",
              "      <th>tolls_amount</th>\n",
              "      <th>improvement_surcharge</th>\n",
              "      <th>total_amount</th>\n",
              "    </tr>\n",
              "  </thead>\n",
              "  <tbody>\n",
              "    <tr>\n",
              "      <th>851636</th>\n",
              "      <td>1</td>\n",
              "      <td>2017-06-03 11:20:28</td>\n",
              "      <td>2017-06-03 11:24:20</td>\n",
              "      <td>3</td>\n",
              "      <td>0.4</td>\n",
              "      <td>1</td>\n",
              "      <td>N</td>\n",
              "      <td>162</td>\n",
              "      <td>229</td>\n",
              "      <td>2</td>\n",
              "      <td>4.5</td>\n",
              "      <td>0.0</td>\n",
              "      <td>0.5</td>\n",
              "      <td>1.05</td>\n",
              "      <td>0.0</td>\n",
              "      <td>0.3</td>\n",
              "      <td>6.35</td>\n",
              "    </tr>\n",
              "  </tbody>\n",
              "</table>\n",
              "</div>"
            ],
            "text/plain": [
              "        VendorID tpep_pickup_datetime tpep_dropoff_datetime  passenger_count  \\\n",
              "851636         1  2017-06-03 11:20:28   2017-06-03 11:24:20                3   \n",
              "\n",
              "        trip_distance  RatecodeID store_and_fwd_flag  PULocationID  \\\n",
              "851636            0.4           1                  N           162   \n",
              "\n",
              "        DOLocationID  payment_type  fare_amount  extra  mta_tax  tip_amount  \\\n",
              "851636           229             2          4.5    0.0      0.5        1.05   \n",
              "\n",
              "        tolls_amount  improvement_surcharge  total_amount  \n",
              "851636           0.0                    0.3          6.35  "
            ]
          },
          "metadata": {
            "tags": []
          },
          "execution_count": 26
        }
      ]
    },
    {
      "metadata": {
        "id": "6YAb-jvqhWPb",
        "colab_type": "text"
      },
      "cell_type": "markdown",
      "source": [
        ""
      ]
    },
    {
      "metadata": {
        "id": "TY8Yw4UlhZwr",
        "colab_type": "code",
        "colab": {}
      },
      "cell_type": "code",
      "source": [
        "data.loc[(data['payment_type'] == 2) & (data['tip_amount'] != 0), 'payment_type'] = 1"
      ],
      "execution_count": 0,
      "outputs": []
    },
    {
      "metadata": {
        "id": "zwN6ge-y6XP5",
        "colab_type": "code",
        "colab": {
          "base_uri": "https://localhost:8080/",
          "height": 122
        },
        "outputId": "90e3f1de-acc0-4b1e-b496-db2cb01ca8d9"
      },
      "cell_type": "code",
      "source": [
        "data2 = data[(data['payment_type'] == 1) | (data['tip_amount'] != 0)]\n",
        "data2.groupby('payment_type').size()"
      ],
      "execution_count": 28,
      "outputs": [
        {
          "output_type": "execute_result",
          "data": {
            "text/plain": [
              "payment_type\n",
              "1    4052252\n",
              "3         35\n",
              "4         12\n",
              "dtype: int64"
            ]
          },
          "metadata": {
            "tags": []
          },
          "execution_count": 28
        }
      ]
    },
    {
      "metadata": {
        "id": "LitzbLOJm1re",
        "colab_type": "text"
      },
      "cell_type": "markdown",
      "source": [
        "#### Fare amount"
      ]
    },
    {
      "metadata": {
        "id": "CrtPMMyUm3dd",
        "colab_type": "code",
        "colab": {
          "base_uri": "https://localhost:8080/",
          "height": 328
        },
        "outputId": "ada7e0ad-3fe0-45ac-a9c7-88baf3703837"
      },
      "cell_type": "code",
      "source": [
        "data.set_index('tpep_pickup_datetime')['fare_amount'].resample('D').mean().fillna(0).plot()"
      ],
      "execution_count": 29,
      "outputs": [
        {
          "output_type": "execute_result",
          "data": {
            "text/plain": [
              "<matplotlib.axes._subplots.AxesSubplot at 0x7f231cecab70>"
            ]
          },
          "metadata": {
            "tags": []
          },
          "execution_count": 29
        },
        {
          "output_type": "display_data",
          "data": {
            "image/png": "[encoded data removed]",
            "text/plain": [
              "<matplotlib.figure.Figure at 0x7f22b218ccf8>"
            ]
          },
          "metadata": {
            "tags": []
          }
        }
      ]
    },
    {
      "metadata": {
        "id": "l95BEJoiZGB0",
        "colab_type": "text"
      },
      "cell_type": "markdown",
      "source": [
        "#### Extra"
      ]
    },
    {
      "metadata": {
        "id": "ZZeXS4-GUOFu",
        "colab_type": "text"
      },
      "cell_type": "markdown",
      "source": [
        "There are some features I do not really know if they are relevant so we are going to analyze them:"
      ]
    },
    {
      "metadata": {
        "id": "SI2RhSSzN-MB",
        "colab_type": "code",
        "colab": {
          "base_uri": "https://localhost:8080/",
          "height": 190
        },
        "outputId": "1fe5f814-9468-459d-97b5-73b425c24ac9"
      },
      "cell_type": "code",
      "source": [
        "data['extra'].describe()"
      ],
      "execution_count": 30,
      "outputs": [
        {
          "output_type": "execute_result",
          "data": {
            "text/plain": [
              "count    5.971881e+06\n",
              "mean     3.333205e-01\n",
              "std      4.471500e-01\n",
              "min     -5.371000e+01\n",
              "25%      0.000000e+00\n",
              "50%      0.000000e+00\n",
              "75%      5.000000e-01\n",
              "max      6.980000e+01\n",
              "Name: extra, dtype: float64"
            ]
          },
          "metadata": {
            "tags": []
          },
          "execution_count": 30
        }
      ]
    },
    {
      "metadata": {
        "id": "zGzPC9CekDBK",
        "colab_type": "code",
        "colab": {
          "base_uri": "https://localhost:8080/",
          "height": 302
        },
        "outputId": "732ab89f-545a-4d55-f10b-ab4c97ff346e"
      },
      "cell_type": "code",
      "source": [
        "data['extra'].plot()"
      ],
      "execution_count": 31,
      "outputs": [
        {
          "output_type": "execute_result",
          "data": {
            "text/plain": [
              "<matplotlib.axes._subplots.AxesSubplot at 0x7f231c4360b8>"
            ]
          },
          "metadata": {
            "tags": []
          },
          "execution_count": 31
        },
        {
          "output_type": "display_data",
          "data": {
            "image/png": "[encoded data removed]",
            "text/plain": [
              "<matplotlib.figure.Figure at 0x7f231c42a390>"
            ]
          },
          "metadata": {
            "tags": []
          }
        }
      ]
    },
    {
      "metadata": {
        "id": "sCf8uIycU6tR",
        "colab_type": "code",
        "colab": {
          "base_uri": "https://localhost:8080/",
          "height": 581
        },
        "outputId": "c28e1ac3-5f58-4b34-907a-e86c27f9e487"
      },
      "cell_type": "code",
      "source": [
        "data.groupby(['RatecodeID', 'mta_tax']).size()"
      ],
      "execution_count": 32,
      "outputs": [
        {
          "output_type": "execute_result",
          "data": {
            "text/plain": [
              "RatecodeID  mta_tax\n",
              "1           -0.50         2170\n",
              "             0.00          463\n",
              "             0.25            1\n",
              "             0.32            1\n",
              "             0.35            2\n",
              "             0.50      5820188\n",
              "             0.85          162\n",
              "             0.93            1\n",
              "             7.40            1\n",
              "             13.40           1\n",
              "             14.48           1\n",
              "             17.40           1\n",
              "             46.52           1\n",
              "             51.36           1\n",
              "             54.51           1\n",
              "2           -0.50          146\n",
              "             0.00           40\n",
              "             0.50       121658\n",
              "             0.85           14\n",
              "3            0.00        11443\n",
              "             0.50            2\n",
              "4           -0.50            1\n",
              "             0.00            2\n",
              "             0.50         2964\n",
              "5           -0.50           30\n",
              "             0.00         8450\n",
              "             0.50         4095\n",
              "6            0.50           27\n",
              "99           0.00           13\n",
              "             0.50            1\n",
              "dtype: int64"
            ]
          },
          "metadata": {
            "tags": []
          },
          "execution_count": 32
        }
      ]
    },
    {
      "metadata": {
        "id": "gEA1xG4aVmsE",
        "colab_type": "code",
        "colab": {
          "base_uri": "https://localhost:8080/",
          "height": 190
        },
        "outputId": "b9a64506-b33e-4fe8-b774-480edc256a03"
      },
      "cell_type": "code",
      "source": [
        "data['improvement_surcharge'].describe()"
      ],
      "execution_count": 33,
      "outputs": [
        {
          "output_type": "execute_result",
          "data": {
            "text/plain": [
              "count    5.971881e+06\n",
              "mean     2.997234e-01\n",
              "std      1.245114e-02\n",
              "min     -3.000000e-01\n",
              "25%      3.000000e-01\n",
              "50%      3.000000e-01\n",
              "75%      3.000000e-01\n",
              "max      3.000000e-01\n",
              "Name: improvement_surcharge, dtype: float64"
            ]
          },
          "metadata": {
            "tags": []
          },
          "execution_count": 33
        }
      ]
    },
    {
      "metadata": {
        "id": "1dQAbkB1WJN7",
        "colab_type": "code",
        "colab": {
          "base_uri": "https://localhost:8080/",
          "height": 312
        },
        "outputId": "2d96574c-1e64-405f-fa9a-9eef7bb11c02"
      },
      "cell_type": "code",
      "source": [
        "data.set_index('tpep_pickup_datetime')['improvement_surcharge'].plot()"
      ],
      "execution_count": 34,
      "outputs": [
        {
          "output_type": "execute_result",
          "data": {
            "text/plain": [
              "<matplotlib.axes._subplots.AxesSubplot at 0x7f233217acf8>"
            ]
          },
          "metadata": {
            "tags": []
          },
          "execution_count": 34
        },
        {
          "output_type": "display_data",
          "data": {
            "image/png": "[encoded data removed]",
            "text/plain": [
              "<matplotlib.figure.Figure at 0x7f233e8266d8>"
            ]
          },
          "metadata": {
            "tags": []
          }
        }
      ]
    },
    {
      "metadata": {
        "id": "YC-l5_-A2PCa",
        "colab_type": "text"
      },
      "cell_type": "markdown",
      "source": [
        "There are negative values due to errors on data probably"
      ]
    },
    {
      "metadata": {
        "id": "xAkOsIbynN_I",
        "colab_type": "text"
      },
      "cell_type": "markdown",
      "source": [
        "#### Total amount"
      ]
    },
    {
      "metadata": {
        "id": "pW1oUVa1DMqG",
        "colab_type": "text"
      },
      "cell_type": "markdown",
      "source": [
        "As we saw before, there are negative total amounts. This is probably due to a meter failure so we have to figure out how to fix it."
      ]
    },
    {
      "metadata": {
        "id": "uFdXz7nrDoHw",
        "colab_type": "code",
        "colab": {}
      },
      "cell_type": "code",
      "source": [
        "# TODO"
      ],
      "execution_count": 0,
      "outputs": []
    },
    {
      "metadata": {
        "id": "nOeGHAW-wTjT",
        "colab_type": "text"
      },
      "cell_type": "markdown",
      "source": [
        "## Data Summary"
      ]
    },
    {
      "metadata": {
        "id": "piM5vjZHQiKJ",
        "colab_type": "text"
      },
      "cell_type": "markdown",
      "source": [
        "At this point we are are going to analyze the dataset in order to know which features are relevant. We should apply feature selection techniques but due to the dataset does not have much features and we couldn't spend a lot of time in this task we decided to skip this step. It's important to know that if we choose too few features our model underfits and when we have too many it overfits our dataset therefore will fail to generalize on the dev set. From the [data dictionary](http://www.nyc.gov/html/tlc/downloads/pdf/data_dictionary_trip_records_yellow.pdf) we can figure out which features may be relevant:\n",
        "\n",
        "*   *VendorID*: This feature **is not** relevant due to the tip amount doesn't depend on the TPEP provider\n",
        "*   **tpep_pickup_datetime**: We think this feature **is** relevant because it depends on the time people usually leave more tip. Fore example, in the night when people go out.\n",
        "*   **tpep_dropoff_datetime**: We think this feature **is** relevant. It tells us the trip duration.\n",
        "*   **passenger_count**: We think this feature **is** relevant because the number of passengers affects the tip amount.\n",
        "*   **trip_distance**: We think this feature **is** relevant. For example, the higher distances the more total amount and this affects to the tip amount.\n",
        "*   *RatecodeID*: We think this feature **is not** relevant because is correlated with fare_amount which gives us more information about the final rate applied by the taxi.\n",
        "*   *store_and_fwd_flag*: This feature **is not** relevant. It's information about how the meter works.\n",
        "*   **PULocationID**: We think this feature **is** relevant. Taxi usually pick up people from they live so it's important to know if passengers live in rich zones.\n",
        "*   **DOLocationID**: As *PULocationID* this feature **is** relevant because it gives us information where passengers want to go (shopping, bussiness, party, etc.)\n",
        "*   *vpayment_type*: We think this feature **is not** relevant because we just have the tip amount of passengers who paid by credit card.\n",
        "*   **fare_amount**: We think this feature **is** relevant because it tells us the final rate applied by the taxi.\n",
        "*   *extra*: We think this feature **is not** relevant because it remains constant\n",
        "*   *mta_tax*: We think this feature **is not** relevant because does not give any information\n",
        "*   **tip_amount**: This feature **is** relevant because it is our target feature.\n",
        "*   **tolls_amount**: We think this feature **is** relevant because helps us to calculate the total amount and the tip amount.\n",
        "*   *improvement_surcharge*: We think this feature **is not** relevant because has a low standard desviation and remains constant in the majority of trips.\n",
        "*   **total_amount**: We think this feature **is** relevant because is the final amount passengers paid (without tip).\n"
      ]
    },
    {
      "metadata": {
        "id": "5i7TgtwiQy3b",
        "colab_type": "code",
        "colab": {}
      },
      "cell_type": "code",
      "source": [
        "relevant_features = [\n",
        "  #'VendorID',\n",
        "  'tpep_pickup_datetime',\n",
        "  'tpep_dropoff_datetime',\n",
        "  'passenger_count',\n",
        "  'trip_distance',\n",
        "  #'RatecodeID',\n",
        "  #'store_and_fwd_flag',\n",
        "  'PULocationID',\n",
        "  'DOLocationID',\n",
        "  #'payment_type',\n",
        "  'fare_amount',\n",
        "  #'extra',\n",
        "  #'mta_tax',\n",
        "  'tip_amount',\n",
        "  'tolls_amount',\n",
        "  #'improvement_surcharge',\n",
        "  'total_amount' \n",
        "]"
      ],
      "execution_count": 0,
      "outputs": []
    },
    {
      "metadata": {
        "id": "K5oowatQXybS",
        "colab_type": "code",
        "colab": {}
      },
      "cell_type": "code",
      "source": [
        "data = data[relevant_features]"
      ],
      "execution_count": 0,
      "outputs": []
    },
    {
      "metadata": {
        "id": "ItcbE8rYX3ya",
        "colab_type": "code",
        "colab": {
          "base_uri": "https://localhost:8080/",
          "height": 241
        },
        "outputId": "1128e28e-8eb6-40ec-9c11-4d46426da242"
      },
      "cell_type": "code",
      "source": [
        "print(data.shape)\n",
        "data.head()"
      ],
      "execution_count": 38,
      "outputs": [
        {
          "output_type": "stream",
          "text": [
            "(5971881, 10)\n"
          ],
          "name": "stdout"
        },
        {
          "output_type": "execute_result",
          "data": {
            "text/html": [
              "<div>\n",
              "<style scoped>\n",
              "    .dataframe tbody tr th:only-of-type {\n",
              "        vertical-align: middle;\n",
              "    }\n",
              "\n",
              "    .dataframe tbody tr th {\n",
              "        vertical-align: top;\n",
              "    }\n",
              "\n",
              "    .dataframe thead th {\n",
              "        text-align: right;\n",
              "    }\n",
              "</style>\n",
              "<table border=\"1\" class=\"dataframe\">\n",
              "  <thead>\n",
              "    <tr style=\"text-align: right;\">\n",
              "      <th></th>\n",
              "      <th>tpep_pickup_datetime</th>\n",
              "      <th>tpep_dropoff_datetime</th>\n",
              "      <th>passenger_count</th>\n",
              "      <th>trip_distance</th>\n",
              "      <th>PULocationID</th>\n",
              "      <th>DOLocationID</th>\n",
              "      <th>fare_amount</th>\n",
              "      <th>tip_amount</th>\n",
              "      <th>tolls_amount</th>\n",
              "      <th>total_amount</th>\n",
              "    </tr>\n",
              "  </thead>\n",
              "  <tbody>\n",
              "    <tr>\n",
              "      <th>0</th>\n",
              "      <td>2017-11-05 23:15:41</td>\n",
              "      <td>2017-11-05 23:22:08</td>\n",
              "      <td>6</td>\n",
              "      <td>1.42</td>\n",
              "      <td>143</td>\n",
              "      <td>141</td>\n",
              "      <td>7.0</td>\n",
              "      <td>1.66</td>\n",
              "      <td>0.0</td>\n",
              "      <td>9.96</td>\n",
              "    </tr>\n",
              "    <tr>\n",
              "      <th>1</th>\n",
              "      <td>2017-03-04 18:25:32</td>\n",
              "      <td>2017-03-04 18:36:17</td>\n",
              "      <td>1</td>\n",
              "      <td>1.10</td>\n",
              "      <td>158</td>\n",
              "      <td>113</td>\n",
              "      <td>8.0</td>\n",
              "      <td>1.75</td>\n",
              "      <td>0.0</td>\n",
              "      <td>10.55</td>\n",
              "    </tr>\n",
              "    <tr>\n",
              "      <th>2</th>\n",
              "      <td>2017-06-03 14:16:15</td>\n",
              "      <td>2017-06-03 14:39:52</td>\n",
              "      <td>1</td>\n",
              "      <td>3.19</td>\n",
              "      <td>163</td>\n",
              "      <td>211</td>\n",
              "      <td>16.5</td>\n",
              "      <td>0.00</td>\n",
              "      <td>0.0</td>\n",
              "      <td>17.30</td>\n",
              "    </tr>\n",
              "    <tr>\n",
              "      <th>3</th>\n",
              "      <td>2017-06-04 16:16:41</td>\n",
              "      <td>2017-06-04 16:23:34</td>\n",
              "      <td>1</td>\n",
              "      <td>1.43</td>\n",
              "      <td>90</td>\n",
              "      <td>231</td>\n",
              "      <td>7.5</td>\n",
              "      <td>0.00</td>\n",
              "      <td>0.0</td>\n",
              "      <td>8.30</td>\n",
              "    </tr>\n",
              "    <tr>\n",
              "      <th>4</th>\n",
              "      <td>2017-03-04 17:45:09</td>\n",
              "      <td>2017-03-04 18:08:31</td>\n",
              "      <td>1</td>\n",
              "      <td>3.50</td>\n",
              "      <td>87</td>\n",
              "      <td>186</td>\n",
              "      <td>16.5</td>\n",
              "      <td>3.45</td>\n",
              "      <td>0.0</td>\n",
              "      <td>20.75</td>\n",
              "    </tr>\n",
              "  </tbody>\n",
              "</table>\n",
              "</div>"
            ],
            "text/plain": [
              "  tpep_pickup_datetime tpep_dropoff_datetime  passenger_count  trip_distance  \\\n",
              "0  2017-11-05 23:15:41   2017-11-05 23:22:08                6           1.42   \n",
              "1  2017-03-04 18:25:32   2017-03-04 18:36:17                1           1.10   \n",
              "2  2017-06-03 14:16:15   2017-06-03 14:39:52                1           3.19   \n",
              "3  2017-06-04 16:16:41   2017-06-04 16:23:34                1           1.43   \n",
              "4  2017-03-04 17:45:09   2017-03-04 18:08:31                1           3.50   \n",
              "\n",
              "   PULocationID  DOLocationID  fare_amount  tip_amount  tolls_amount  \\\n",
              "0           143           141          7.0        1.66           0.0   \n",
              "1           158           113          8.0        1.75           0.0   \n",
              "2           163           211         16.5        0.00           0.0   \n",
              "3            90           231          7.5        0.00           0.0   \n",
              "4            87           186         16.5        3.45           0.0   \n",
              "\n",
              "   total_amount  \n",
              "0          9.96  \n",
              "1         10.55  \n",
              "2         17.30  \n",
              "3          8.30  \n",
              "4         20.75  "
            ]
          },
          "metadata": {
            "tags": []
          },
          "execution_count": 38
        }
      ]
    },
    {
      "metadata": {
        "id": "B6wsUGeWmNUj",
        "colab_type": "text"
      },
      "cell_type": "markdown",
      "source": [
        "#### Relation between amount and passengers"
      ]
    },
    {
      "metadata": {
        "id": "GtXILhzrmVDp",
        "colab_type": "code",
        "colab": {
          "base_uri": "https://localhost:8080/",
          "height": 316
        },
        "outputId": "11e805bc-8931-4cd1-b287-6b0a869976d5"
      },
      "cell_type": "code",
      "source": [
        "data.groupby(['passenger_count']).mean()['total_amount'].plot()"
      ],
      "execution_count": 39,
      "outputs": [
        {
          "output_type": "execute_result",
          "data": {
            "text/plain": [
              "<matplotlib.axes._subplots.AxesSubplot at 0x7f2363c4da90>"
            ]
          },
          "metadata": {
            "tags": []
          },
          "execution_count": 39
        },
        {
          "output_type": "display_data",
          "data": {
            "image/png": "[encoded data removed]",
            "text/plain": [
              "<matplotlib.figure.Figure at 0x7f235636e208>"
            ]
          },
          "metadata": {
            "tags": []
          }
        }
      ]
    },
    {
      "metadata": {
        "id": "3HaDzvE3pTns",
        "colab_type": "text"
      },
      "cell_type": "markdown",
      "source": [
        "#### Total amount average by hour"
      ]
    },
    {
      "metadata": {
        "id": "v77Xz5F5nx7w",
        "colab_type": "code",
        "colab": {
          "base_uri": "https://localhost:8080/",
          "height": 316
        },
        "outputId": "5ed2039c-9ea8-44eb-80da-23ec2c0e4d2a"
      },
      "cell_type": "code",
      "source": [
        "ds = data.set_index('tpep_pickup_datetime')\n",
        "times = pd.to_datetime(ds.index)\n",
        "ds['tip_amount'].groupby(times.hour).mean().plot()"
      ],
      "execution_count": 40,
      "outputs": [
        {
          "output_type": "execute_result",
          "data": {
            "text/plain": [
              "<matplotlib.axes._subplots.AxesSubplot at 0x7f23563386a0>"
            ]
          },
          "metadata": {
            "tags": []
          },
          "execution_count": 40
        },
        {
          "output_type": "display_data",
          "data": {
            "image/png": "[encoded data removed]",
            "text/plain": [
              "<matplotlib.figure.Figure at 0x7f2356321f28>"
            ]
          },
          "metadata": {
            "tags": []
          }
        }
      ]
    },
    {
      "metadata": {
        "id": "mbqyxT3oweSM",
        "colab_type": "text"
      },
      "cell_type": "markdown",
      "source": [
        "## Model Building"
      ]
    },
    {
      "metadata": {
        "id": "tkvNrQ_4h6VR",
        "colab_type": "text"
      },
      "cell_type": "markdown",
      "source": [
        "\n",
        "First of all, we're going to create a new column with the trip duration in minutes and remove the drop off datetime (this operation takes several minutes to finish):"
      ]
    },
    {
      "metadata": {
        "id": "K3zkV1PidAKM",
        "colab_type": "code",
        "colab": {}
      },
      "cell_type": "code",
      "source": [
        "def get_duration_min(row):\n",
        "  diff = row['tpep_dropoff_datetime'] - row['tpep_pickup_datetime']\n",
        "  return diff.seconds / 60\n",
        "\n",
        "data.loc[:, 'trip_duration'] = data.apply(lambda row: get_duration_min(row), axis=1)\n",
        "data = data.drop(labels='tpep_dropoff_datetime', axis=1)"
      ],
      "execution_count": 0,
      "outputs": []
    },
    {
      "metadata": {
        "id": "-pEcpWSDSKcT",
        "colab_type": "code",
        "colab": {
          "base_uri": "https://localhost:8080/",
          "height": 204
        },
        "outputId": "d0b16d32-c2f3-4ca0-d608-5f969369cf55"
      },
      "cell_type": "code",
      "source": [
        "data.head()"
      ],
      "execution_count": 42,
      "outputs": [
        {
          "output_type": "execute_result",
          "data": {
            "text/html": [
              "<div>\n",
              "<style scoped>\n",
              "    .dataframe tbody tr th:only-of-type {\n",
              "        vertical-align: middle;\n",
              "    }\n",
              "\n",
              "    .dataframe tbody tr th {\n",
              "        vertical-align: top;\n",
              "    }\n",
              "\n",
              "    .dataframe thead th {\n",
              "        text-align: right;\n",
              "    }\n",
              "</style>\n",
              "<table border=\"1\" class=\"dataframe\">\n",
              "  <thead>\n",
              "    <tr style=\"text-align: right;\">\n",
              "      <th></th>\n",
              "      <th>tpep_pickup_datetime</th>\n",
              "      <th>passenger_count</th>\n",
              "      <th>trip_distance</th>\n",
              "      <th>PULocationID</th>\n",
              "      <th>DOLocationID</th>\n",
              "      <th>fare_amount</th>\n",
              "      <th>tip_amount</th>\n",
              "      <th>tolls_amount</th>\n",
              "      <th>total_amount</th>\n",
              "      <th>trip_duration</th>\n",
              "    </tr>\n",
              "  </thead>\n",
              "  <tbody>\n",
              "    <tr>\n",
              "      <th>0</th>\n",
              "      <td>2017-11-05 23:15:41</td>\n",
              "      <td>6</td>\n",
              "      <td>1.42</td>\n",
              "      <td>143</td>\n",
              "      <td>141</td>\n",
              "      <td>7.0</td>\n",
              "      <td>1.66</td>\n",
              "      <td>0.0</td>\n",
              "      <td>9.96</td>\n",
              "      <td>6.450000</td>\n",
              "    </tr>\n",
              "    <tr>\n",
              "      <th>1</th>\n",
              "      <td>2017-03-04 18:25:32</td>\n",
              "      <td>1</td>\n",
              "      <td>1.10</td>\n",
              "      <td>158</td>\n",
              "      <td>113</td>\n",
              "      <td>8.0</td>\n",
              "      <td>1.75</td>\n",
              "      <td>0.0</td>\n",
              "      <td>10.55</td>\n",
              "      <td>10.750000</td>\n",
              "    </tr>\n",
              "    <tr>\n",
              "      <th>2</th>\n",
              "      <td>2017-06-03 14:16:15</td>\n",
              "      <td>1</td>\n",
              "      <td>3.19</td>\n",
              "      <td>163</td>\n",
              "      <td>211</td>\n",
              "      <td>16.5</td>\n",
              "      <td>0.00</td>\n",
              "      <td>0.0</td>\n",
              "      <td>17.30</td>\n",
              "      <td>23.616667</td>\n",
              "    </tr>\n",
              "    <tr>\n",
              "      <th>3</th>\n",
              "      <td>2017-06-04 16:16:41</td>\n",
              "      <td>1</td>\n",
              "      <td>1.43</td>\n",
              "      <td>90</td>\n",
              "      <td>231</td>\n",
              "      <td>7.5</td>\n",
              "      <td>0.00</td>\n",
              "      <td>0.0</td>\n",
              "      <td>8.30</td>\n",
              "      <td>6.883333</td>\n",
              "    </tr>\n",
              "    <tr>\n",
              "      <th>4</th>\n",
              "      <td>2017-03-04 17:45:09</td>\n",
              "      <td>1</td>\n",
              "      <td>3.50</td>\n",
              "      <td>87</td>\n",
              "      <td>186</td>\n",
              "      <td>16.5</td>\n",
              "      <td>3.45</td>\n",
              "      <td>0.0</td>\n",
              "      <td>20.75</td>\n",
              "      <td>23.366667</td>\n",
              "    </tr>\n",
              "  </tbody>\n",
              "</table>\n",
              "</div>"
            ],
            "text/plain": [
              "  tpep_pickup_datetime  passenger_count  trip_distance  PULocationID  \\\n",
              "0  2017-11-05 23:15:41                6           1.42           143   \n",
              "1  2017-03-04 18:25:32                1           1.10           158   \n",
              "2  2017-06-03 14:16:15                1           3.19           163   \n",
              "3  2017-06-04 16:16:41                1           1.43            90   \n",
              "4  2017-03-04 17:45:09                1           3.50            87   \n",
              "\n",
              "   DOLocationID  fare_amount  tip_amount  tolls_amount  total_amount  \\\n",
              "0           141          7.0        1.66           0.0          9.96   \n",
              "1           113          8.0        1.75           0.0         10.55   \n",
              "2           211         16.5        0.00           0.0         17.30   \n",
              "3           231          7.5        0.00           0.0          8.30   \n",
              "4           186         16.5        3.45           0.0         20.75   \n",
              "\n",
              "   trip_duration  \n",
              "0       6.450000  \n",
              "1      10.750000  \n",
              "2      23.616667  \n",
              "3       6.883333  \n",
              "4      23.366667  "
            ]
          },
          "metadata": {
            "tags": []
          },
          "execution_count": 42
        }
      ]
    },
    {
      "metadata": {
        "id": "kY-WsW1rSseE",
        "colab_type": "code",
        "colab": {
          "base_uri": "https://localhost:8080/",
          "height": 292
        },
        "outputId": "2c5e68e0-c871-45d3-b6a4-4192d2ce3a85"
      },
      "cell_type": "code",
      "source": [
        "data.set_index('tpep_pickup_datetime')['tip_amount'].resample('D').mean().dropna().plot()"
      ],
      "execution_count": 43,
      "outputs": [
        {
          "output_type": "execute_result",
          "data": {
            "text/plain": [
              "<matplotlib.axes._subplots.AxesSubplot at 0x7f23562969e8>"
            ]
          },
          "metadata": {
            "tags": []
          },
          "execution_count": 43
        },
        {
          "output_type": "display_data",
          "data": {
            "image/png": "[encoded data removed]",
            "text/plain": [
              "<matplotlib.figure.Figure at 0x7f2356300128>"
            ]
          },
          "metadata": {
            "tags": []
          }
        }
      ]
    },
    {
      "metadata": {
        "id": "VWVOWNt_empt",
        "colab_type": "text"
      },
      "cell_type": "markdown",
      "source": [
        "Then we create two new columns with the month and day (for boosting holidays eg.) and another with the hour because the fare and passengers depend on this."
      ]
    },
    {
      "metadata": {
        "id": "AhtZk0gLevcP",
        "colab_type": "code",
        "colab": {}
      },
      "cell_type": "code",
      "source": [
        "data.loc[:, 'pu_date'] = data['tpep_pickup_datetime'].dt.strftime('%m-%d')"
      ],
      "execution_count": 0,
      "outputs": []
    },
    {
      "metadata": {
        "id": "DMCsMcj_ko_Z",
        "colab_type": "code",
        "colab": {
          "base_uri": "https://localhost:8080/",
          "height": 204
        },
        "outputId": "acb6e01a-9384-4d4f-8d59-df394a9e8348"
      },
      "cell_type": "code",
      "source": [
        "data.head()"
      ],
      "execution_count": 48,
      "outputs": [
        {
          "output_type": "execute_result",
          "data": {
            "text/html": [
              "<div>\n",
              "<style scoped>\n",
              "    .dataframe tbody tr th:only-of-type {\n",
              "        vertical-align: middle;\n",
              "    }\n",
              "\n",
              "    .dataframe tbody tr th {\n",
              "        vertical-align: top;\n",
              "    }\n",
              "\n",
              "    .dataframe thead th {\n",
              "        text-align: right;\n",
              "    }\n",
              "</style>\n",
              "<table border=\"1\" class=\"dataframe\">\n",
              "  <thead>\n",
              "    <tr style=\"text-align: right;\">\n",
              "      <th></th>\n",
              "      <th>tpep_pickup_datetime</th>\n",
              "      <th>passenger_count</th>\n",
              "      <th>trip_distance</th>\n",
              "      <th>PULocationID</th>\n",
              "      <th>DOLocationID</th>\n",
              "      <th>fare_amount</th>\n",
              "      <th>tip_amount</th>\n",
              "      <th>tolls_amount</th>\n",
              "      <th>total_amount</th>\n",
              "      <th>trip_duration</th>\n",
              "      <th>pu_date</th>\n",
              "    </tr>\n",
              "  </thead>\n",
              "  <tbody>\n",
              "    <tr>\n",
              "      <th>0</th>\n",
              "      <td>2017-11-05 23:15:41</td>\n",
              "      <td>6</td>\n",
              "      <td>1.42</td>\n",
              "      <td>143</td>\n",
              "      <td>141</td>\n",
              "      <td>7.0</td>\n",
              "      <td>1.66</td>\n",
              "      <td>0.0</td>\n",
              "      <td>9.96</td>\n",
              "      <td>6.450000</td>\n",
              "      <td>11-05</td>\n",
              "    </tr>\n",
              "    <tr>\n",
              "      <th>1</th>\n",
              "      <td>2017-03-04 18:25:32</td>\n",
              "      <td>1</td>\n",
              "      <td>1.10</td>\n",
              "      <td>158</td>\n",
              "      <td>113</td>\n",
              "      <td>8.0</td>\n",
              "      <td>1.75</td>\n",
              "      <td>0.0</td>\n",
              "      <td>10.55</td>\n",
              "      <td>10.750000</td>\n",
              "      <td>03-04</td>\n",
              "    </tr>\n",
              "    <tr>\n",
              "      <th>2</th>\n",
              "      <td>2017-06-03 14:16:15</td>\n",
              "      <td>1</td>\n",
              "      <td>3.19</td>\n",
              "      <td>163</td>\n",
              "      <td>211</td>\n",
              "      <td>16.5</td>\n",
              "      <td>0.00</td>\n",
              "      <td>0.0</td>\n",
              "      <td>17.30</td>\n",
              "      <td>23.616667</td>\n",
              "      <td>06-03</td>\n",
              "    </tr>\n",
              "    <tr>\n",
              "      <th>3</th>\n",
              "      <td>2017-06-04 16:16:41</td>\n",
              "      <td>1</td>\n",
              "      <td>1.43</td>\n",
              "      <td>90</td>\n",
              "      <td>231</td>\n",
              "      <td>7.5</td>\n",
              "      <td>0.00</td>\n",
              "      <td>0.0</td>\n",
              "      <td>8.30</td>\n",
              "      <td>6.883333</td>\n",
              "      <td>06-04</td>\n",
              "    </tr>\n",
              "    <tr>\n",
              "      <th>4</th>\n",
              "      <td>2017-03-04 17:45:09</td>\n",
              "      <td>1</td>\n",
              "      <td>3.50</td>\n",
              "      <td>87</td>\n",
              "      <td>186</td>\n",
              "      <td>16.5</td>\n",
              "      <td>3.45</td>\n",
              "      <td>0.0</td>\n",
              "      <td>20.75</td>\n",
              "      <td>23.366667</td>\n",
              "      <td>03-04</td>\n",
              "    </tr>\n",
              "  </tbody>\n",
              "</table>\n",
              "</div>"
            ],
            "text/plain": [
              "  tpep_pickup_datetime  passenger_count  trip_distance  PULocationID  \\\n",
              "0  2017-11-05 23:15:41                6           1.42           143   \n",
              "1  2017-03-04 18:25:32                1           1.10           158   \n",
              "2  2017-06-03 14:16:15                1           3.19           163   \n",
              "3  2017-06-04 16:16:41                1           1.43            90   \n",
              "4  2017-03-04 17:45:09                1           3.50            87   \n",
              "\n",
              "   DOLocationID  fare_amount  tip_amount  tolls_amount  total_amount  \\\n",
              "0           141          7.0        1.66           0.0          9.96   \n",
              "1           113          8.0        1.75           0.0         10.55   \n",
              "2           211         16.5        0.00           0.0         17.30   \n",
              "3           231          7.5        0.00           0.0          8.30   \n",
              "4           186         16.5        3.45           0.0         20.75   \n",
              "\n",
              "   trip_duration pu_date  \n",
              "0       6.450000   11-05  \n",
              "1      10.750000   03-04  \n",
              "2      23.616667   06-03  \n",
              "3       6.883333   06-04  \n",
              "4      23.366667   03-04  "
            ]
          },
          "metadata": {
            "tags": []
          },
          "execution_count": 48
        }
      ]
    },
    {
      "metadata": {
        "id": "MSbK3Qn0kN3f",
        "colab_type": "code",
        "colab": {}
      },
      "cell_type": "code",
      "source": [
        "data.loc[:, 'pu_hour'] = data['tpep_pickup_datetime'].dt.strftime('%H')\n",
        "data = data.drop(labels='tpep_pickup_datetime', axis=1)"
      ],
      "execution_count": 0,
      "outputs": []
    },
    {
      "metadata": {
        "id": "PjZKafEh088H",
        "colab_type": "text"
      },
      "cell_type": "markdown",
      "source": [
        "Next step we'll choose the algorithm. There are two common types of problem:\n",
        "\n",
        "*   **Supervised Learning problems**:  All data is labeled and the algorithms learn to predict the output from the input data.\n",
        "\n",
        "*   **Unsupervised Learning problems**: All data is unlabeled and the algorithms learn to inherent structure from the input data.\n",
        "\n",
        "\n",
        "The problem is addressed by supervised learning due to we have a complete dataset with target feature we'll provide it to the algorithm. By that reason we won't use clustering nor knn. In fact, it is a regression problem because we have to predict a continuous value therefore we won't choose classification algorithms. We could use SVM if our data was lineal independient, regression trees or LSTM but [it seems to be inadvisable](https://towardsdatascience.com/the-fall-of-rnn-lstm-2d1594c74ce0) so we'll just use a MLP:\n"
      ]
    },
    {
      "metadata": {
        "id": "mTTHKDR9g7ch",
        "colab_type": "text"
      },
      "cell_type": "markdown",
      "source": [
        "Split the dataset in input features and target feature"
      ]
    },
    {
      "metadata": {
        "id": "novSxYKNg-B8",
        "colab_type": "code",
        "colab": {
          "base_uri": "https://localhost:8080/",
          "height": 204
        },
        "outputId": "7efc288f-beb9-4a28-c370-3c464025f61d"
      },
      "cell_type": "code",
      "source": [
        "data_x = data[[c for c in data if c != 'tip_amount']]\n",
        "data_y = data['tip_amount']\n",
        "data_x.head()"
      ],
      "execution_count": 50,
      "outputs": [
        {
          "output_type": "execute_result",
          "data": {
            "text/html": [
              "<div>\n",
              "<style scoped>\n",
              "    .dataframe tbody tr th:only-of-type {\n",
              "        vertical-align: middle;\n",
              "    }\n",
              "\n",
              "    .dataframe tbody tr th {\n",
              "        vertical-align: top;\n",
              "    }\n",
              "\n",
              "    .dataframe thead th {\n",
              "        text-align: right;\n",
              "    }\n",
              "</style>\n",
              "<table border=\"1\" class=\"dataframe\">\n",
              "  <thead>\n",
              "    <tr style=\"text-align: right;\">\n",
              "      <th></th>\n",
              "      <th>passenger_count</th>\n",
              "      <th>trip_distance</th>\n",
              "      <th>PULocationID</th>\n",
              "      <th>DOLocationID</th>\n",
              "      <th>fare_amount</th>\n",
              "      <th>tolls_amount</th>\n",
              "      <th>total_amount</th>\n",
              "      <th>trip_duration</th>\n",
              "      <th>pu_date</th>\n",
              "      <th>pu_hour</th>\n",
              "    </tr>\n",
              "  </thead>\n",
              "  <tbody>\n",
              "    <tr>\n",
              "      <th>0</th>\n",
              "      <td>6</td>\n",
              "      <td>1.42</td>\n",
              "      <td>143</td>\n",
              "      <td>141</td>\n",
              "      <td>7.0</td>\n",
              "      <td>0.0</td>\n",
              "      <td>9.96</td>\n",
              "      <td>6.450000</td>\n",
              "      <td>11-05</td>\n",
              "      <td>23</td>\n",
              "    </tr>\n",
              "    <tr>\n",
              "      <th>1</th>\n",
              "      <td>1</td>\n",
              "      <td>1.10</td>\n",
              "      <td>158</td>\n",
              "      <td>113</td>\n",
              "      <td>8.0</td>\n",
              "      <td>0.0</td>\n",
              "      <td>10.55</td>\n",
              "      <td>10.750000</td>\n",
              "      <td>03-04</td>\n",
              "      <td>18</td>\n",
              "    </tr>\n",
              "    <tr>\n",
              "      <th>2</th>\n",
              "      <td>1</td>\n",
              "      <td>3.19</td>\n",
              "      <td>163</td>\n",
              "      <td>211</td>\n",
              "      <td>16.5</td>\n",
              "      <td>0.0</td>\n",
              "      <td>17.30</td>\n",
              "      <td>23.616667</td>\n",
              "      <td>06-03</td>\n",
              "      <td>14</td>\n",
              "    </tr>\n",
              "    <tr>\n",
              "      <th>3</th>\n",
              "      <td>1</td>\n",
              "      <td>1.43</td>\n",
              "      <td>90</td>\n",
              "      <td>231</td>\n",
              "      <td>7.5</td>\n",
              "      <td>0.0</td>\n",
              "      <td>8.30</td>\n",
              "      <td>6.883333</td>\n",
              "      <td>06-04</td>\n",
              "      <td>16</td>\n",
              "    </tr>\n",
              "    <tr>\n",
              "      <th>4</th>\n",
              "      <td>1</td>\n",
              "      <td>3.50</td>\n",
              "      <td>87</td>\n",
              "      <td>186</td>\n",
              "      <td>16.5</td>\n",
              "      <td>0.0</td>\n",
              "      <td>20.75</td>\n",
              "      <td>23.366667</td>\n",
              "      <td>03-04</td>\n",
              "      <td>17</td>\n",
              "    </tr>\n",
              "  </tbody>\n",
              "</table>\n",
              "</div>"
            ],
            "text/plain": [
              "   passenger_count  trip_distance  PULocationID  DOLocationID  fare_amount  \\\n",
              "0                6           1.42           143           141          7.0   \n",
              "1                1           1.10           158           113          8.0   \n",
              "2                1           3.19           163           211         16.5   \n",
              "3                1           1.43            90           231          7.5   \n",
              "4                1           3.50            87           186         16.5   \n",
              "\n",
              "   tolls_amount  total_amount  trip_duration pu_date pu_hour  \n",
              "0           0.0          9.96       6.450000   11-05      23  \n",
              "1           0.0         10.55      10.750000   03-04      18  \n",
              "2           0.0         17.30      23.616667   06-03      14  \n",
              "3           0.0          8.30       6.883333   06-04      16  \n",
              "4           0.0         20.75      23.366667   03-04      17  "
            ]
          },
          "metadata": {
            "tags": []
          },
          "execution_count": 50
        }
      ]
    },
    {
      "metadata": {
        "id": "aBD3mC7OZTTk",
        "colab_type": "code",
        "colab": {
          "base_uri": "https://localhost:8080/",
          "height": 34
        },
        "outputId": "7f252867-84ea-4175-d600-18dbabf596d5"
      },
      "cell_type": "code",
      "source": [
        "from keras.layers import Dense, Dropout, Activation\n",
        "from keras.models import Sequential\n",
        "from sklearn.model_selection import KFold"
      ],
      "execution_count": 51,
      "outputs": [
        {
          "output_type": "stream",
          "text": [
            "Using TensorFlow backend.\n"
          ],
          "name": "stderr"
        }
      ]
    },
    {
      "metadata": {
        "id": "Z23cnYrXcoHc",
        "colab_type": "code",
        "colab": {
          "base_uri": "https://localhost:8080/",
          "height": 1254
        },
        "outputId": "560d83bd-88de-469c-ece0-fab5553b35d7"
      },
      "cell_type": "code",
      "source": [
        "def create_model():\n",
        "  model = Sequential() \n",
        "  \n",
        "  # Input layer with dimension 10 and hidden layer i with 128 neurons.\n",
        "  model.add(Dense(128, input_dim=10, activation='relu'))\n",
        "  # Dropout of 20% of the neurons and activation layer\n",
        "  model.add(Dropout(.2))\n",
        "  model.add(Activation(\"linear\"))\n",
        "  # Hidden layer j with 64 neurons plus activation layer\n",
        "  model.add(Dense(64, activation='relu'))\n",
        "  model.add(Activation(\"linear\"))\n",
        "  # Hidden layer k with 64 neurons\n",
        "  model.add(Dense(64, activation='relu'))\n",
        "  # Output Layer\n",
        "  model.add(Dense(1))\n",
        "\n",
        "  # Model is derived and compiled using mean square error as loss\n",
        "  # function, accuracy as metric and gradient descent optimizer.\n",
        "  model.compile(loss='mse', optimizer='adam', metrics=[\"accuracy\"])\n",
        "  \n",
        "  return model\n",
        "\n",
        "'''\n",
        "Training and evaluating the model\n",
        "'''\n",
        "def train_and_evaluate(model, train_idx, test_idx):\n",
        "  np.random.seed(3)\n",
        "  model.fit(data_x.iloc[train_idx], data_y.iloc[train_idx], nb_epoch=256, batch_size=2, verbose=2)\n",
        "  \n",
        "  predicted = model.predict(data_x.iloc[test_idx])\n",
        "  pyplot.plot(y_scaler.inverse_transform(predicted), color=\"blue\")\n",
        "  pyplot.plot(y_scaler.inverse_transform(data_y.iloc[test_idx]), color=\"green\")\n",
        "  pyplot.show()\n",
        "\n",
        "\n",
        "# K-Fold validation with k=7\n",
        "splits = 7\n",
        "kf = KFold(n_splits=splits, shuffle=True)\n",
        "\n",
        "i = 0\n",
        "for (train_idx, test_idx) in kf.split(data_x):\n",
        "  print(\"Running Fold\", i+1, \"/\", splits)\n",
        "  model = None # Clearing the NN\n",
        "  model = create_model()\n",
        "  train_and_evaluate(model, train_idx, test_idx)\n",
        "  i += 1\n"
      ],
      "execution_count": 52,
      "outputs": [
        {
          "output_type": "stream",
          "text": [
            "Running Fold 1 / 7\n"
          ],
          "name": "stdout"
        },
        {
          "output_type": "stream",
          "text": [
            "/usr/local/lib/python3.6/dist-packages/keras/models.py:981: UserWarning: The `nb_epoch` argument in `fit` has been renamed `epochs`.\n",
            "  warnings.warn('The `nb_epoch` argument in `fit` '\n"
          ],
          "name": "stderr"
        },
        {
          "output_type": "stream",
          "text": [
            "Epoch 1/256\n"
          ],
          "name": "stdout"
        },
        {
          "output_type": "error",
          "ename": "ValueError",
          "evalue": "ignored",
          "traceback": [
            "\u001b[0;31m---------------------------------------------------------------------------\u001b[0m",
            "\u001b[0;31mValueError\u001b[0m                                Traceback (most recent call last)",
            "\u001b[0;32m<ipython-input-52-87e19612d927>\u001b[0m in \u001b[0;36m<module>\u001b[0;34m()\u001b[0m\n\u001b[1;32m     43\u001b[0m   \u001b[0mmodel\u001b[0m \u001b[0;34m=\u001b[0m \u001b[0;32mNone\u001b[0m \u001b[0;31m# Clearing the NN\u001b[0m\u001b[0;34m\u001b[0m\u001b[0m\n\u001b[1;32m     44\u001b[0m   \u001b[0mmodel\u001b[0m \u001b[0;34m=\u001b[0m \u001b[0mcreate_model\u001b[0m\u001b[0;34m(\u001b[0m\u001b[0;34m)\u001b[0m\u001b[0;34m\u001b[0m\u001b[0m\n\u001b[0;32m---> 45\u001b[0;31m   \u001b[0mtrain_and_evaluate\u001b[0m\u001b[0;34m(\u001b[0m\u001b[0mmodel\u001b[0m\u001b[0;34m,\u001b[0m \u001b[0mtrain_idx\u001b[0m\u001b[0;34m,\u001b[0m \u001b[0mtest_idx\u001b[0m\u001b[0;34m)\u001b[0m\u001b[0;34m\u001b[0m\u001b[0m\n\u001b[0m\u001b[1;32m     46\u001b[0m   \u001b[0mi\u001b[0m \u001b[0;34m+=\u001b[0m \u001b[0;36m1\u001b[0m\u001b[0;34m\u001b[0m\u001b[0m\n",
            "\u001b[0;32m<ipython-input-52-87e19612d927>\u001b[0m in \u001b[0;36mtrain_and_evaluate\u001b[0;34m(model, train_idx, test_idx)\u001b[0m\n\u001b[1;32m     26\u001b[0m \u001b[0;32mdef\u001b[0m \u001b[0mtrain_and_evaluate\u001b[0m\u001b[0;34m(\u001b[0m\u001b[0mmodel\u001b[0m\u001b[0;34m,\u001b[0m \u001b[0mtrain_idx\u001b[0m\u001b[0;34m,\u001b[0m \u001b[0mtest_idx\u001b[0m\u001b[0;34m)\u001b[0m\u001b[0;34m:\u001b[0m\u001b[0;34m\u001b[0m\u001b[0m\n\u001b[1;32m     27\u001b[0m   \u001b[0mnp\u001b[0m\u001b[0;34m.\u001b[0m\u001b[0mrandom\u001b[0m\u001b[0;34m.\u001b[0m\u001b[0mseed\u001b[0m\u001b[0;34m(\u001b[0m\u001b[0;36m3\u001b[0m\u001b[0;34m)\u001b[0m\u001b[0;34m\u001b[0m\u001b[0m\n\u001b[0;32m---> 28\u001b[0;31m   \u001b[0mmodel\u001b[0m\u001b[0;34m.\u001b[0m\u001b[0mfit\u001b[0m\u001b[0;34m(\u001b[0m\u001b[0mdata_x\u001b[0m\u001b[0;34m.\u001b[0m\u001b[0miloc\u001b[0m\u001b[0;34m[\u001b[0m\u001b[0mtrain_idx\u001b[0m\u001b[0;34m]\u001b[0m\u001b[0;34m,\u001b[0m \u001b[0mdata_y\u001b[0m\u001b[0;34m.\u001b[0m\u001b[0miloc\u001b[0m\u001b[0;34m[\u001b[0m\u001b[0mtrain_idx\u001b[0m\u001b[0;34m]\u001b[0m\u001b[0;34m,\u001b[0m \u001b[0mnb_epoch\u001b[0m\u001b[0;34m=\u001b[0m\u001b[0;36m256\u001b[0m\u001b[0;34m,\u001b[0m \u001b[0mbatch_size\u001b[0m\u001b[0;34m=\u001b[0m\u001b[0;36m2\u001b[0m\u001b[0;34m,\u001b[0m \u001b[0mverbose\u001b[0m\u001b[0;34m=\u001b[0m\u001b[0;36m2\u001b[0m\u001b[0;34m)\u001b[0m\u001b[0;34m\u001b[0m\u001b[0m\n\u001b[0m\u001b[1;32m     29\u001b[0m \u001b[0;34m\u001b[0m\u001b[0m\n\u001b[1;32m     30\u001b[0m   \u001b[0mpredicted\u001b[0m \u001b[0;34m=\u001b[0m \u001b[0mmodel\u001b[0m\u001b[0;34m.\u001b[0m\u001b[0mpredict\u001b[0m\u001b[0;34m(\u001b[0m\u001b[0mdata_x\u001b[0m\u001b[0;34m.\u001b[0m\u001b[0miloc\u001b[0m\u001b[0;34m[\u001b[0m\u001b[0mtest_idx\u001b[0m\u001b[0;34m]\u001b[0m\u001b[0;34m)\u001b[0m\u001b[0;34m\u001b[0m\u001b[0m\n",
            "\u001b[0;32m/usr/local/lib/python3.6/dist-packages/keras/models.py\u001b[0m in \u001b[0;36mfit\u001b[0;34m(self, x, y, batch_size, epochs, verbose, callbacks, validation_split, validation_data, shuffle, class_weight, sample_weight, initial_epoch, steps_per_epoch, validation_steps, **kwargs)\u001b[0m\n\u001b[1;32m   1000\u001b[0m                               \u001b[0minitial_epoch\u001b[0m\u001b[0;34m=\u001b[0m\u001b[0minitial_epoch\u001b[0m\u001b[0;34m,\u001b[0m\u001b[0;34m\u001b[0m\u001b[0m\n\u001b[1;32m   1001\u001b[0m                               \u001b[0msteps_per_epoch\u001b[0m\u001b[0;34m=\u001b[0m\u001b[0msteps_per_epoch\u001b[0m\u001b[0;34m,\u001b[0m\u001b[0;34m\u001b[0m\u001b[0m\n\u001b[0;32m-> 1002\u001b[0;31m                               validation_steps=validation_steps)\n\u001b[0m\u001b[1;32m   1003\u001b[0m \u001b[0;34m\u001b[0m\u001b[0m\n\u001b[1;32m   1004\u001b[0m     def evaluate(self, x=None, y=None,\n",
            "\u001b[0;32m/usr/local/lib/python3.6/dist-packages/keras/engine/training.py\u001b[0m in \u001b[0;36mfit\u001b[0;34m(self, x, y, batch_size, epochs, verbose, callbacks, validation_split, validation_data, shuffle, class_weight, sample_weight, initial_epoch, steps_per_epoch, validation_steps, **kwargs)\u001b[0m\n\u001b[1;32m   1703\u001b[0m                               \u001b[0minitial_epoch\u001b[0m\u001b[0;34m=\u001b[0m\u001b[0minitial_epoch\u001b[0m\u001b[0;34m,\u001b[0m\u001b[0;34m\u001b[0m\u001b[0m\n\u001b[1;32m   1704\u001b[0m                               \u001b[0msteps_per_epoch\u001b[0m\u001b[0;34m=\u001b[0m\u001b[0msteps_per_epoch\u001b[0m\u001b[0;34m,\u001b[0m\u001b[0;34m\u001b[0m\u001b[0m\n\u001b[0;32m-> 1705\u001b[0;31m                               validation_steps=validation_steps)\n\u001b[0m\u001b[1;32m   1706\u001b[0m \u001b[0;34m\u001b[0m\u001b[0m\n\u001b[1;32m   1707\u001b[0m     def evaluate(self, x=None, y=None,\n",
            "\u001b[0;32m/usr/local/lib/python3.6/dist-packages/keras/engine/training.py\u001b[0m in \u001b[0;36m_fit_loop\u001b[0;34m(self, f, ins, out_labels, batch_size, epochs, verbose, callbacks, val_f, val_ins, shuffle, callback_metrics, initial_epoch, steps_per_epoch, validation_steps)\u001b[0m\n\u001b[1;32m   1234\u001b[0m                         \u001b[0mins_batch\u001b[0m\u001b[0;34m[\u001b[0m\u001b[0mi\u001b[0m\u001b[0;34m]\u001b[0m \u001b[0;34m=\u001b[0m \u001b[0mins_batch\u001b[0m\u001b[0;34m[\u001b[0m\u001b[0mi\u001b[0m\u001b[0;34m]\u001b[0m\u001b[0;34m.\u001b[0m\u001b[0mtoarray\u001b[0m\u001b[0;34m(\u001b[0m\u001b[0;34m)\u001b[0m\u001b[0;34m\u001b[0m\u001b[0m\n\u001b[1;32m   1235\u001b[0m \u001b[0;34m\u001b[0m\u001b[0m\n\u001b[0;32m-> 1236\u001b[0;31m                     \u001b[0mouts\u001b[0m \u001b[0;34m=\u001b[0m \u001b[0mf\u001b[0m\u001b[0;34m(\u001b[0m\u001b[0mins_batch\u001b[0m\u001b[0;34m)\u001b[0m\u001b[0;34m\u001b[0m\u001b[0m\n\u001b[0m\u001b[1;32m   1237\u001b[0m                     \u001b[0;32mif\u001b[0m \u001b[0;32mnot\u001b[0m \u001b[0misinstance\u001b[0m\u001b[0;34m(\u001b[0m\u001b[0mouts\u001b[0m\u001b[0;34m,\u001b[0m \u001b[0mlist\u001b[0m\u001b[0;34m)\u001b[0m\u001b[0;34m:\u001b[0m\u001b[0;34m\u001b[0m\u001b[0m\n\u001b[1;32m   1238\u001b[0m                         \u001b[0mouts\u001b[0m \u001b[0;34m=\u001b[0m \u001b[0;34m[\u001b[0m\u001b[0mouts\u001b[0m\u001b[0;34m]\u001b[0m\u001b[0;34m\u001b[0m\u001b[0m\n",
            "\u001b[0;32m/usr/local/lib/python3.6/dist-packages/keras/backend/tensorflow_backend.py\u001b[0m in \u001b[0;36m__call__\u001b[0;34m(self, inputs)\u001b[0m\n\u001b[1;32m   2480\u001b[0m         \u001b[0msession\u001b[0m \u001b[0;34m=\u001b[0m \u001b[0mget_session\u001b[0m\u001b[0;34m(\u001b[0m\u001b[0;34m)\u001b[0m\u001b[0;34m\u001b[0m\u001b[0m\n\u001b[1;32m   2481\u001b[0m         updated = session.run(fetches=fetches, feed_dict=feed_dict,\n\u001b[0;32m-> 2482\u001b[0;31m                               **self.session_kwargs)\n\u001b[0m\u001b[1;32m   2483\u001b[0m         \u001b[0;32mreturn\u001b[0m \u001b[0mupdated\u001b[0m\u001b[0;34m[\u001b[0m\u001b[0;34m:\u001b[0m\u001b[0mlen\u001b[0m\u001b[0;34m(\u001b[0m\u001b[0mself\u001b[0m\u001b[0;34m.\u001b[0m\u001b[0moutputs\u001b[0m\u001b[0;34m)\u001b[0m\u001b[0;34m]\u001b[0m\u001b[0;34m\u001b[0m\u001b[0m\n\u001b[1;32m   2484\u001b[0m \u001b[0;34m\u001b[0m\u001b[0m\n",
            "\u001b[0;32m/usr/local/lib/python3.6/dist-packages/tensorflow/python/client/session.py\u001b[0m in \u001b[0;36mrun\u001b[0;34m(self, fetches, feed_dict, options, run_metadata)\u001b[0m\n\u001b[1;32m    875\u001b[0m     \u001b[0;32mtry\u001b[0m\u001b[0;34m:\u001b[0m\u001b[0;34m\u001b[0m\u001b[0m\n\u001b[1;32m    876\u001b[0m       result = self._run(None, fetches, feed_dict, options_ptr,\n\u001b[0;32m--> 877\u001b[0;31m                          run_metadata_ptr)\n\u001b[0m\u001b[1;32m    878\u001b[0m       \u001b[0;32mif\u001b[0m \u001b[0mrun_metadata\u001b[0m\u001b[0;34m:\u001b[0m\u001b[0;34m\u001b[0m\u001b[0m\n\u001b[1;32m    879\u001b[0m         \u001b[0mproto_data\u001b[0m \u001b[0;34m=\u001b[0m \u001b[0mtf_session\u001b[0m\u001b[0;34m.\u001b[0m\u001b[0mTF_GetBuffer\u001b[0m\u001b[0;34m(\u001b[0m\u001b[0mrun_metadata_ptr\u001b[0m\u001b[0;34m)\u001b[0m\u001b[0;34m\u001b[0m\u001b[0m\n",
            "\u001b[0;32m/usr/local/lib/python3.6/dist-packages/tensorflow/python/client/session.py\u001b[0m in \u001b[0;36m_run\u001b[0;34m(self, handle, fetches, feed_dict, options, run_metadata)\u001b[0m\n\u001b[1;32m   1067\u001b[0m             \u001b[0mfeed_handles\u001b[0m\u001b[0;34m[\u001b[0m\u001b[0msubfeed_t\u001b[0m\u001b[0;34m]\u001b[0m \u001b[0;34m=\u001b[0m \u001b[0msubfeed_val\u001b[0m\u001b[0;34m\u001b[0m\u001b[0m\n\u001b[1;32m   1068\u001b[0m           \u001b[0;32melse\u001b[0m\u001b[0;34m:\u001b[0m\u001b[0;34m\u001b[0m\u001b[0m\n\u001b[0;32m-> 1069\u001b[0;31m             \u001b[0mnp_val\u001b[0m \u001b[0;34m=\u001b[0m \u001b[0mnp\u001b[0m\u001b[0;34m.\u001b[0m\u001b[0masarray\u001b[0m\u001b[0;34m(\u001b[0m\u001b[0msubfeed_val\u001b[0m\u001b[0;34m,\u001b[0m \u001b[0mdtype\u001b[0m\u001b[0;34m=\u001b[0m\u001b[0msubfeed_dtype\u001b[0m\u001b[0;34m)\u001b[0m\u001b[0;34m\u001b[0m\u001b[0m\n\u001b[0m\u001b[1;32m   1070\u001b[0m \u001b[0;34m\u001b[0m\u001b[0m\n\u001b[1;32m   1071\u001b[0m           if (not is_tensor_handle_feed and\n",
            "\u001b[0;32m/usr/local/lib/python3.6/dist-packages/numpy/core/numeric.py\u001b[0m in \u001b[0;36masarray\u001b[0;34m(a, dtype, order)\u001b[0m\n\u001b[1;32m    490\u001b[0m \u001b[0;34m\u001b[0m\u001b[0m\n\u001b[1;32m    491\u001b[0m     \"\"\"\n\u001b[0;32m--> 492\u001b[0;31m     \u001b[0;32mreturn\u001b[0m \u001b[0marray\u001b[0m\u001b[0;34m(\u001b[0m\u001b[0ma\u001b[0m\u001b[0;34m,\u001b[0m \u001b[0mdtype\u001b[0m\u001b[0;34m,\u001b[0m \u001b[0mcopy\u001b[0m\u001b[0;34m=\u001b[0m\u001b[0;32mFalse\u001b[0m\u001b[0;34m,\u001b[0m \u001b[0morder\u001b[0m\u001b[0;34m=\u001b[0m\u001b[0morder\u001b[0m\u001b[0;34m)\u001b[0m\u001b[0;34m\u001b[0m\u001b[0m\n\u001b[0m\u001b[1;32m    493\u001b[0m \u001b[0;34m\u001b[0m\u001b[0m\n\u001b[1;32m    494\u001b[0m \u001b[0;34m\u001b[0m\u001b[0m\n",
            "\u001b[0;31mValueError\u001b[0m: could not convert string to float: '11-01'"
          ]
        }
      ]
    },
    {
      "metadata": {
        "id": "oy3ToM8l2RrS",
        "colab_type": "text"
      },
      "cell_type": "markdown",
      "source": [
        "In order to expose the model to other systems we can create a Web Service which exposes an API RESTful and uses this model. This web service could be built using [Flask-RESTful](https://flask-restful.readthedocs.io/en/latest/) for example. In this way, we have systems with high interoperability.\n",
        "\n",
        "The RESTful API could accepts these parameters:\n",
        "\n",
        "*   tpep_pickup_datetime\n",
        "*   trip_distance\n",
        "*   passenger_count\n",
        "*   PULocationID (As alternative, a lat/lon coordinates with the location colud be accepted. The systme will use the sahpefile of NYC zones in order to execute a CONTAINS spatial operation to get the zone code)\n",
        "*   DOLocationID: (Like *PULocationID*, an alternative is an lat/lon coordinates with the location. The systme will use the sahpefile of NYC zones in order to execute a CONTAINS spatial operation to get the zone code)\n",
        "*   fare_amount\n",
        "*   tolls_amount\n",
        "*   total_amount\n",
        "*   trip_duration\n",
        "\n",
        "If the company has a full dataset and wants to fill the tip amount we could develop an Spark System as ETL which uses the model developed.\n",
        "\n",
        "**TODO**"
      ]
    },
    {
      "metadata": {
        "id": "LVUnchc15b3h",
        "colab_type": "code",
        "colab": {}
      },
      "cell_type": "code",
      "source": [
        ""
      ],
      "execution_count": 0,
      "outputs": []
    }
  ]
}